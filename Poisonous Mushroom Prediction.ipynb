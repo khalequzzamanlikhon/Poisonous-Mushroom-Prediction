{
 "cells": [
  {
   "cell_type": "markdown",
   "id": "34cc30e7",
   "metadata": {
    "papermill": {
     "duration": 0.015398,
     "end_time": "2024-08-27T16:29:12.150078",
     "exception": false,
     "start_time": "2024-08-27T16:29:12.134680",
     "status": "completed"
    },
    "tags": []
   },
   "source": [
    "# import necessary libraries"
   ]
  },
  {
   "cell_type": "code",
   "execution_count": 1,
   "id": "299b7465",
   "metadata": {
    "execution": {
     "iopub.execute_input": "2024-08-27T16:29:12.181871Z",
     "iopub.status.busy": "2024-08-27T16:29:12.181441Z",
     "iopub.status.idle": "2024-08-27T16:29:30.842723Z",
     "shell.execute_reply": "2024-08-27T16:29:30.841446Z"
    },
    "papermill": {
     "duration": 18.680743,
     "end_time": "2024-08-27T16:29:30.845517",
     "exception": false,
     "start_time": "2024-08-27T16:29:12.164774",
     "status": "completed"
    },
    "tags": []
   },
   "outputs": [],
   "source": [
    "import os\n",
    "os.environ[\"TF_CPP_MIN_LOG_LEVEL\"]=\"2\"\n",
    "import warnings\n",
    "warnings.filterwarnings(\"ignore\")\n",
    "\n",
    "import numpy as np\n",
    "import pandas as pd\n",
    "import scipy\n",
    "import matplotlib.pyplot as plt\n",
    "import seaborn as sns\n",
    "\n",
    "from sklearn.preprocessing import LabelEncoder, StandardScaler, OrdinalEncoder\n",
    "from sklearn.model_selection import train_test_split\n",
    "from sklearn.metrics import accuracy_score, confusion_matrix, classification_report, roc_auc_score, roc_curve, auc,ConfusionMatrixDisplay\n",
    "import tensorflow as tf\n",
    "from tensorflow import keras\n",
    "from tensorflow.keras import layers\n",
    "from tensorflow.keras.layers import Dense\n",
    "from tensorflow.keras.callbacks import EarlyStopping, ReduceLROnPlateau\n",
    "from keras import backend as K\n",
    "import optuna\n",
    "from xgboost import XGBClassifier\n",
    "from lightgbm import LGBMClassifier\n",
    "from catboost import CatBoostClassifier\n",
    "from sklearn.model_selection import cross_val_score\n",
    "from sklearn.metrics import make_scorer, matthews_corrcoef"
   ]
  },
  {
   "cell_type": "markdown",
   "id": "8eff0a3c",
   "metadata": {
    "papermill": {
     "duration": 0.015402,
     "end_time": "2024-08-27T16:29:30.878985",
     "exception": false,
     "start_time": "2024-08-27T16:29:30.863583",
     "status": "completed"
    },
    "tags": []
   },
   "source": [
    "# Loading the data"
   ]
  },
  {
   "cell_type": "code",
   "execution_count": 2,
   "id": "658497a3",
   "metadata": {
    "execution": {
     "iopub.execute_input": "2024-08-27T16:29:30.912355Z",
     "iopub.status.busy": "2024-08-27T16:29:30.910796Z",
     "iopub.status.idle": "2024-08-27T16:29:46.727784Z",
     "shell.execute_reply": "2024-08-27T16:29:46.726792Z"
    },
    "papermill": {
     "duration": 15.835418,
     "end_time": "2024-08-27T16:29:46.730153",
     "exception": false,
     "start_time": "2024-08-27T16:29:30.894735",
     "status": "completed"
    },
    "tags": []
   },
   "outputs": [
    {
     "data": {
      "text/html": [
       "<div>\n",
       "<style scoped>\n",
       "    .dataframe tbody tr th:only-of-type {\n",
       "        vertical-align: middle;\n",
       "    }\n",
       "\n",
       "    .dataframe tbody tr th {\n",
       "        vertical-align: top;\n",
       "    }\n",
       "\n",
       "    .dataframe thead th {\n",
       "        text-align: right;\n",
       "    }\n",
       "</style>\n",
       "<table border=\"1\" class=\"dataframe\">\n",
       "  <thead>\n",
       "    <tr style=\"text-align: right;\">\n",
       "      <th></th>\n",
       "      <th>id</th>\n",
       "      <th>class</th>\n",
       "      <th>cap-diameter</th>\n",
       "      <th>cap-shape</th>\n",
       "      <th>cap-surface</th>\n",
       "      <th>cap-color</th>\n",
       "      <th>does-bruise-or-bleed</th>\n",
       "      <th>gill-attachment</th>\n",
       "      <th>gill-spacing</th>\n",
       "      <th>gill-color</th>\n",
       "      <th>...</th>\n",
       "      <th>stem-root</th>\n",
       "      <th>stem-surface</th>\n",
       "      <th>stem-color</th>\n",
       "      <th>veil-type</th>\n",
       "      <th>veil-color</th>\n",
       "      <th>has-ring</th>\n",
       "      <th>ring-type</th>\n",
       "      <th>spore-print-color</th>\n",
       "      <th>habitat</th>\n",
       "      <th>season</th>\n",
       "    </tr>\n",
       "  </thead>\n",
       "  <tbody>\n",
       "    <tr>\n",
       "      <th>0</th>\n",
       "      <td>0</td>\n",
       "      <td>e</td>\n",
       "      <td>8.80</td>\n",
       "      <td>f</td>\n",
       "      <td>s</td>\n",
       "      <td>u</td>\n",
       "      <td>f</td>\n",
       "      <td>a</td>\n",
       "      <td>c</td>\n",
       "      <td>w</td>\n",
       "      <td>...</td>\n",
       "      <td>NaN</td>\n",
       "      <td>NaN</td>\n",
       "      <td>w</td>\n",
       "      <td>NaN</td>\n",
       "      <td>NaN</td>\n",
       "      <td>f</td>\n",
       "      <td>f</td>\n",
       "      <td>NaN</td>\n",
       "      <td>d</td>\n",
       "      <td>a</td>\n",
       "    </tr>\n",
       "    <tr>\n",
       "      <th>1</th>\n",
       "      <td>1</td>\n",
       "      <td>p</td>\n",
       "      <td>4.51</td>\n",
       "      <td>x</td>\n",
       "      <td>h</td>\n",
       "      <td>o</td>\n",
       "      <td>f</td>\n",
       "      <td>a</td>\n",
       "      <td>c</td>\n",
       "      <td>n</td>\n",
       "      <td>...</td>\n",
       "      <td>NaN</td>\n",
       "      <td>y</td>\n",
       "      <td>o</td>\n",
       "      <td>NaN</td>\n",
       "      <td>NaN</td>\n",
       "      <td>t</td>\n",
       "      <td>z</td>\n",
       "      <td>NaN</td>\n",
       "      <td>d</td>\n",
       "      <td>w</td>\n",
       "    </tr>\n",
       "    <tr>\n",
       "      <th>2</th>\n",
       "      <td>2</td>\n",
       "      <td>e</td>\n",
       "      <td>6.94</td>\n",
       "      <td>f</td>\n",
       "      <td>s</td>\n",
       "      <td>b</td>\n",
       "      <td>f</td>\n",
       "      <td>x</td>\n",
       "      <td>c</td>\n",
       "      <td>w</td>\n",
       "      <td>...</td>\n",
       "      <td>NaN</td>\n",
       "      <td>s</td>\n",
       "      <td>n</td>\n",
       "      <td>NaN</td>\n",
       "      <td>NaN</td>\n",
       "      <td>f</td>\n",
       "      <td>f</td>\n",
       "      <td>NaN</td>\n",
       "      <td>l</td>\n",
       "      <td>w</td>\n",
       "    </tr>\n",
       "    <tr>\n",
       "      <th>3</th>\n",
       "      <td>3</td>\n",
       "      <td>e</td>\n",
       "      <td>3.88</td>\n",
       "      <td>f</td>\n",
       "      <td>y</td>\n",
       "      <td>g</td>\n",
       "      <td>f</td>\n",
       "      <td>s</td>\n",
       "      <td>NaN</td>\n",
       "      <td>g</td>\n",
       "      <td>...</td>\n",
       "      <td>NaN</td>\n",
       "      <td>NaN</td>\n",
       "      <td>w</td>\n",
       "      <td>NaN</td>\n",
       "      <td>NaN</td>\n",
       "      <td>f</td>\n",
       "      <td>f</td>\n",
       "      <td>NaN</td>\n",
       "      <td>d</td>\n",
       "      <td>u</td>\n",
       "    </tr>\n",
       "    <tr>\n",
       "      <th>4</th>\n",
       "      <td>4</td>\n",
       "      <td>e</td>\n",
       "      <td>5.85</td>\n",
       "      <td>x</td>\n",
       "      <td>l</td>\n",
       "      <td>w</td>\n",
       "      <td>f</td>\n",
       "      <td>d</td>\n",
       "      <td>NaN</td>\n",
       "      <td>w</td>\n",
       "      <td>...</td>\n",
       "      <td>NaN</td>\n",
       "      <td>NaN</td>\n",
       "      <td>w</td>\n",
       "      <td>NaN</td>\n",
       "      <td>NaN</td>\n",
       "      <td>f</td>\n",
       "      <td>f</td>\n",
       "      <td>NaN</td>\n",
       "      <td>g</td>\n",
       "      <td>a</td>\n",
       "    </tr>\n",
       "  </tbody>\n",
       "</table>\n",
       "<p>5 rows × 22 columns</p>\n",
       "</div>"
      ],
      "text/plain": [
       "   id class  cap-diameter cap-shape cap-surface cap-color  \\\n",
       "0   0     e          8.80         f           s         u   \n",
       "1   1     p          4.51         x           h         o   \n",
       "2   2     e          6.94         f           s         b   \n",
       "3   3     e          3.88         f           y         g   \n",
       "4   4     e          5.85         x           l         w   \n",
       "\n",
       "  does-bruise-or-bleed gill-attachment gill-spacing gill-color  ...  \\\n",
       "0                    f               a            c          w  ...   \n",
       "1                    f               a            c          n  ...   \n",
       "2                    f               x            c          w  ...   \n",
       "3                    f               s          NaN          g  ...   \n",
       "4                    f               d          NaN          w  ...   \n",
       "\n",
       "   stem-root  stem-surface stem-color veil-type veil-color has-ring ring-type  \\\n",
       "0        NaN           NaN          w       NaN        NaN        f         f   \n",
       "1        NaN             y          o       NaN        NaN        t         z   \n",
       "2        NaN             s          n       NaN        NaN        f         f   \n",
       "3        NaN           NaN          w       NaN        NaN        f         f   \n",
       "4        NaN           NaN          w       NaN        NaN        f         f   \n",
       "\n",
       "  spore-print-color habitat season  \n",
       "0               NaN       d      a  \n",
       "1               NaN       d      w  \n",
       "2               NaN       l      w  \n",
       "3               NaN       d      u  \n",
       "4               NaN       g      a  \n",
       "\n",
       "[5 rows x 22 columns]"
      ]
     },
     "execution_count": 2,
     "metadata": {},
     "output_type": "execute_result"
    }
   ],
   "source": [
    "train=pd.read_csv(\"/kaggle/input/playground-series-s4e8/train.csv\")\n",
    "test=pd.read_csv(\"/kaggle/input/playground-series-s4e8/test.csv\")\n",
    "train.head()"
   ]
  },
  {
   "cell_type": "markdown",
   "id": "df2db7c1",
   "metadata": {
    "papermill": {
     "duration": 0.015619,
     "end_time": "2024-08-27T16:29:46.761394",
     "exception": false,
     "start_time": "2024-08-27T16:29:46.745775",
     "status": "completed"
    },
    "tags": []
   },
   "source": [
    "# Getting insight about the data"
   ]
  },
  {
   "cell_type": "code",
   "execution_count": 3,
   "id": "75ad7018",
   "metadata": {
    "execution": {
     "iopub.execute_input": "2024-08-27T16:29:46.793579Z",
     "iopub.status.busy": "2024-08-27T16:29:46.793159Z",
     "iopub.status.idle": "2024-08-27T16:29:46.798474Z",
     "shell.execute_reply": "2024-08-27T16:29:46.797568Z"
    },
    "papermill": {
     "duration": 0.024268,
     "end_time": "2024-08-27T16:29:46.800751",
     "exception": false,
     "start_time": "2024-08-27T16:29:46.776483",
     "status": "completed"
    },
    "tags": []
   },
   "outputs": [
    {
     "name": "stdout",
     "output_type": "stream",
     "text": [
      "(3116945, 22) (2077964, 21)\n"
     ]
    }
   ],
   "source": [
    "print(train.shape,test.shape)"
   ]
  },
  {
   "cell_type": "code",
   "execution_count": 4,
   "id": "f711cdd8",
   "metadata": {
    "execution": {
     "iopub.execute_input": "2024-08-27T16:29:46.832691Z",
     "iopub.status.busy": "2024-08-27T16:29:46.832257Z",
     "iopub.status.idle": "2024-08-27T16:29:46.852116Z",
     "shell.execute_reply": "2024-08-27T16:29:46.851180Z"
    },
    "papermill": {
     "duration": 0.038473,
     "end_time": "2024-08-27T16:29:46.854304",
     "exception": false,
     "start_time": "2024-08-27T16:29:46.815831",
     "status": "completed"
    },
    "tags": []
   },
   "outputs": [
    {
     "name": "stdout",
     "output_type": "stream",
     "text": [
      "<class 'pandas.core.frame.DataFrame'>\n",
      "RangeIndex: 3116945 entries, 0 to 3116944\n",
      "Data columns (total 22 columns):\n",
      " #   Column                Dtype  \n",
      "---  ------                -----  \n",
      " 0   id                    int64  \n",
      " 1   class                 object \n",
      " 2   cap-diameter          float64\n",
      " 3   cap-shape             object \n",
      " 4   cap-surface           object \n",
      " 5   cap-color             object \n",
      " 6   does-bruise-or-bleed  object \n",
      " 7   gill-attachment       object \n",
      " 8   gill-spacing          object \n",
      " 9   gill-color            object \n",
      " 10  stem-height           float64\n",
      " 11  stem-width            float64\n",
      " 12  stem-root             object \n",
      " 13  stem-surface          object \n",
      " 14  stem-color            object \n",
      " 15  veil-type             object \n",
      " 16  veil-color            object \n",
      " 17  has-ring              object \n",
      " 18  ring-type             object \n",
      " 19  spore-print-color     object \n",
      " 20  habitat               object \n",
      " 21  season                object \n",
      "dtypes: float64(3), int64(1), object(18)\n",
      "memory usage: 523.2+ MB\n"
     ]
    }
   ],
   "source": [
    "train.info()"
   ]
  },
  {
   "cell_type": "code",
   "execution_count": 5,
   "id": "89421e71",
   "metadata": {
    "execution": {
     "iopub.execute_input": "2024-08-27T16:29:46.889703Z",
     "iopub.status.busy": "2024-08-27T16:29:46.889288Z",
     "iopub.status.idle": "2024-08-27T16:30:05.940311Z",
     "shell.execute_reply": "2024-08-27T16:30:05.939197Z"
    },
    "papermill": {
     "duration": 19.069565,
     "end_time": "2024-08-27T16:30:05.942517",
     "exception": false,
     "start_time": "2024-08-27T16:29:46.872952",
     "status": "completed"
    },
    "tags": []
   },
   "outputs": [
    {
     "name": "stdout",
     "output_type": "stream",
     "text": [
      "training null values\n",
      " id                            0\n",
      "class                         0\n",
      "cap-diameter                  4\n",
      "cap-shape                    40\n",
      "cap-surface              671023\n",
      "cap-color                    12\n",
      "does-bruise-or-bleed          8\n",
      "gill-attachment          523936\n",
      "gill-spacing            1258435\n",
      "gill-color                   57\n",
      "stem-height                   0\n",
      "stem-width                    0\n",
      "stem-root               2757023\n",
      "stem-surface            1980861\n",
      "stem-color                   38\n",
      "veil-type               2957493\n",
      "veil-color              2740947\n",
      "has-ring                     24\n",
      "ring-type                128880\n",
      "spore-print-color       2849682\n",
      "habitat                      45\n",
      "season                        0\n",
      "dtype: int64\n",
      "\n",
      "\n",
      "\n",
      "test null values\n",
      " id                            0\n",
      "cap-diameter                  7\n",
      "cap-shape                    31\n",
      "cap-surface              446904\n",
      "cap-color                    13\n",
      "does-bruise-or-bleed         10\n",
      "gill-attachment          349821\n",
      "gill-spacing             839595\n",
      "gill-color                   49\n",
      "stem-height                   1\n",
      "stem-width                    0\n",
      "stem-root               1838012\n",
      "stem-surface            1321488\n",
      "stem-color                   21\n",
      "veil-type               1971545\n",
      "veil-color              1826124\n",
      "has-ring                     19\n",
      "ring-type                 86195\n",
      "spore-print-color       1899617\n",
      "habitat                      25\n",
      "season                        0\n",
      "dtype: int64\n",
      "\n",
      "\n",
      " duplicate in train \n",
      "\n",
      "  0\n",
      "\n",
      "\n",
      " duplicate in test\n",
      "\n",
      " 0\n"
     ]
    }
   ],
   "source": [
    "print(\"training null values\\n\",train.isnull().sum())\n",
    "print(\"\\n\\n\\ntest null values\\n\",test.isnull().sum())\n",
    "print(\"\\n\\n duplicate in train \\n\\n \",train.duplicated().sum())\n",
    "print(\"\\n\\n duplicate in test\\n\\n\",test.duplicated().sum())"
   ]
  },
  {
   "cell_type": "markdown",
   "id": "d7586ebc",
   "metadata": {
    "papermill": {
     "duration": 0.015225,
     "end_time": "2024-08-27T16:30:05.973554",
     "exception": false,
     "start_time": "2024-08-27T16:30:05.958329",
     "status": "completed"
    },
    "tags": []
   },
   "source": [
    "# Feature Importance :  Chi-Square test of independence\n",
    "     - Two hypothesis test\n",
    "        - Null-hypothesis: asserts that the feature is independent. if p-value for \n",
    "             a feature is less than the threshold then this hypothesis is rejected \n",
    "              { menas feature and target have relation}\n",
    "        - Alternative-hypothesis: asserts that the feature is not independent\n",
    "             { feautre and target has relationship}"
   ]
  },
  {
   "cell_type": "code",
   "execution_count": 6,
   "id": "3440dd26",
   "metadata": {
    "execution": {
     "iopub.execute_input": "2024-08-27T16:30:06.007301Z",
     "iopub.status.busy": "2024-08-27T16:30:06.006342Z",
     "iopub.status.idle": "2024-08-27T16:31:29.881010Z",
     "shell.execute_reply": "2024-08-27T16:31:29.879900Z"
    },
    "papermill": {
     "duration": 83.894198,
     "end_time": "2024-08-27T16:31:29.883519",
     "exception": false,
     "start_time": "2024-08-27T16:30:05.989321",
     "status": "completed"
    },
    "tags": []
   },
   "outputs": [
    {
     "name": "stdout",
     "output_type": "stream",
     "text": [
      "id is NOT important. (p = 0.4997336950403224)\n",
      "cap-diameter is important. (p = 0.0)\n",
      "cap-shape is important. (p = 0.0)\n",
      "cap-surface is important. (p = 0.0)\n",
      "cap-color is important. (p = 0.0)\n",
      "does-bruise-or-bleed is important. (p = 0.0)\n",
      "gill-attachment is important. (p = 0.0)\n",
      "gill-spacing is important. (p = 0.0)\n",
      "gill-color is important. (p = 0.0)\n",
      "stem-height is important. (p = 0.0)\n",
      "stem-width is important. (p = 0.0)\n",
      "stem-root is important. (p = 0.0)\n",
      "stem-surface is important. (p = 0.0)\n",
      "stem-color is important. (p = 0.0)\n",
      "veil-type is NOT important. (p = 0.37683440676671315)\n",
      "veil-color is important. (p = 0.0)\n",
      "has-ring is important. (p = 0.0)\n",
      "ring-type is important. (p = 0.0)\n",
      "spore-print-color is important. (p = 0.0)\n",
      "habitat is important. (p = 0.0)\n",
      "season is important. (p = 0.0)\n"
     ]
    }
   ],
   "source": [
    "alpha = 0.05\n",
    "values = {}\n",
    "\n",
    "for col in train.columns:\n",
    "    if col == \"class\":\n",
    "        continue\n",
    "        \n",
    "    A, B = train[col], train[\"class\"]\n",
    "\n",
    "    dfObserved = pd.crosstab(A, B) \n",
    "    chi2, p, dof, expected = scipy.stats.chi2_contingency(dfObserved.values)\n",
    "    values[col] = p\n",
    "    if p < alpha:\n",
    "        # Reject null hypothesis\n",
    "        print(\"{} is important. (p = {})\".format(col, p))\n",
    "    else:\n",
    "        # Accept null hypothesis\n",
    "        print(\"{} is NOT important. (p = {})\".format(col, p))"
   ]
  },
  {
   "cell_type": "code",
   "execution_count": 7,
   "id": "0779f90f",
   "metadata": {
    "execution": {
     "iopub.execute_input": "2024-08-27T16:31:29.921654Z",
     "iopub.status.busy": "2024-08-27T16:31:29.921254Z",
     "iopub.status.idle": "2024-08-27T16:31:30.934103Z",
     "shell.execute_reply": "2024-08-27T16:31:30.933232Z"
    },
    "papermill": {
     "duration": 1.034307,
     "end_time": "2024-08-27T16:31:30.936657",
     "exception": false,
     "start_time": "2024-08-27T16:31:29.902350",
     "status": "completed"
    },
    "tags": []
   },
   "outputs": [],
   "source": [
    "train= train.drop(['veil-type'], axis=1)\n",
    "test= test.drop(['veil-type'], axis=1)"
   ]
  },
  {
   "cell_type": "code",
   "execution_count": 8,
   "id": "afa015cb",
   "metadata": {
    "execution": {
     "iopub.execute_input": "2024-08-27T16:31:30.973001Z",
     "iopub.status.busy": "2024-08-27T16:31:30.972624Z",
     "iopub.status.idle": "2024-08-27T16:31:31.580784Z",
     "shell.execute_reply": "2024-08-27T16:31:31.579646Z"
    },
    "papermill": {
     "duration": 0.62876,
     "end_time": "2024-08-27T16:31:31.582955",
     "exception": false,
     "start_time": "2024-08-27T16:31:30.954195",
     "status": "completed"
    },
    "tags": []
   },
   "outputs": [
    {
     "name": "stdout",
     "output_type": "stream",
     "text": [
      "numerical columns\n",
      " Index(['cap-diameter', 'stem-height', 'stem-width'], dtype='object') \n",
      "\n",
      "\n",
      " categorical columns \n",
      " Index(['cap-color', 'cap-shape', 'cap-surface', 'does-bruise-or-bleed',\n",
      "       'gill-attachment', 'gill-color', 'gill-spacing', 'habitat', 'has-ring',\n",
      "       'ring-type', 'season', 'spore-print-color', 'stem-color', 'stem-root',\n",
      "       'stem-surface', 'veil-color'],\n",
      "      dtype='object')\n"
     ]
    }
   ],
   "source": [
    "num_cols=train.select_dtypes(include=[\"float\"]).columns\n",
    "cat_cols=train.select_dtypes(include=[\"object\"]).columns.difference([\"class\"])\n",
    "print(f\"numerical columns\\n {num_cols} \\n\\n\\n categorical columns \\n {cat_cols}\")"
   ]
  },
  {
   "cell_type": "markdown",
   "id": "62eb9d18",
   "metadata": {
    "papermill": {
     "duration": 0.017147,
     "end_time": "2024-08-27T16:31:31.617968",
     "exception": false,
     "start_time": "2024-08-27T16:31:31.600821",
     "status": "completed"
    },
    "tags": []
   },
   "source": [
    "# Handling missing values"
   ]
  },
  {
   "cell_type": "code",
   "execution_count": 9,
   "id": "8d76b12c",
   "metadata": {
    "execution": {
     "iopub.execute_input": "2024-08-27T16:31:31.654175Z",
     "iopub.status.busy": "2024-08-27T16:31:31.653802Z",
     "iopub.status.idle": "2024-08-27T16:31:31.660123Z",
     "shell.execute_reply": "2024-08-27T16:31:31.659205Z"
    },
    "papermill": {
     "duration": 0.026839,
     "end_time": "2024-08-27T16:31:31.662114",
     "exception": false,
     "start_time": "2024-08-27T16:31:31.635275",
     "status": "completed"
    },
    "tags": []
   },
   "outputs": [],
   "source": [
    "def handle_missing_values(df,num_cols,cat_cols):\n",
    "    for col in num_cols:\n",
    "        mode=df[col].mode()[0]\n",
    "        df[col].fillna(mode,inplace=True)\n",
    "    for col in cat_cols:\n",
    "        mode=df[col].mode()[0]\n",
    "        df[col].fillna(mode,inplace=True)\n",
    "    return df\n",
    "        "
   ]
  },
  {
   "cell_type": "code",
   "execution_count": 10,
   "id": "e531e143",
   "metadata": {
    "execution": {
     "iopub.execute_input": "2024-08-27T16:31:31.697380Z",
     "iopub.status.busy": "2024-08-27T16:31:31.697043Z",
     "iopub.status.idle": "2024-08-27T16:31:45.952751Z",
     "shell.execute_reply": "2024-08-27T16:31:45.951762Z"
    },
    "papermill": {
     "duration": 14.275762,
     "end_time": "2024-08-27T16:31:45.955022",
     "exception": false,
     "start_time": "2024-08-27T16:31:31.679260",
     "status": "completed"
    },
    "tags": []
   },
   "outputs": [
    {
     "data": {
      "text/plain": [
       "id                      0\n",
       "class                   0\n",
       "cap-diameter            0\n",
       "cap-shape               0\n",
       "cap-surface             0\n",
       "cap-color               0\n",
       "does-bruise-or-bleed    0\n",
       "gill-attachment         0\n",
       "gill-spacing            0\n",
       "gill-color              0\n",
       "stem-height             0\n",
       "stem-width              0\n",
       "stem-root               0\n",
       "stem-surface            0\n",
       "stem-color              0\n",
       "veil-color              0\n",
       "has-ring                0\n",
       "ring-type               0\n",
       "spore-print-color       0\n",
       "habitat                 0\n",
       "season                  0\n",
       "dtype: int64"
      ]
     },
     "execution_count": 10,
     "metadata": {},
     "output_type": "execute_result"
    }
   ],
   "source": [
    "train=handle_missing_values(train,num_cols,cat_cols)\n",
    "train.isnull().sum()"
   ]
  },
  {
   "cell_type": "code",
   "execution_count": 11,
   "id": "0e4009c0",
   "metadata": {
    "execution": {
     "iopub.execute_input": "2024-08-27T16:31:45.992186Z",
     "iopub.status.busy": "2024-08-27T16:31:45.991775Z",
     "iopub.status.idle": "2024-08-27T16:31:55.411984Z",
     "shell.execute_reply": "2024-08-27T16:31:55.410953Z"
    },
    "papermill": {
     "duration": 9.441515,
     "end_time": "2024-08-27T16:31:55.414621",
     "exception": false,
     "start_time": "2024-08-27T16:31:45.973106",
     "status": "completed"
    },
    "tags": []
   },
   "outputs": [
    {
     "data": {
      "text/plain": [
       "id                      0\n",
       "cap-diameter            0\n",
       "cap-shape               0\n",
       "cap-surface             0\n",
       "cap-color               0\n",
       "does-bruise-or-bleed    0\n",
       "gill-attachment         0\n",
       "gill-spacing            0\n",
       "gill-color              0\n",
       "stem-height             0\n",
       "stem-width              0\n",
       "stem-root               0\n",
       "stem-surface            0\n",
       "stem-color              0\n",
       "veil-color              0\n",
       "has-ring                0\n",
       "ring-type               0\n",
       "spore-print-color       0\n",
       "habitat                 0\n",
       "season                  0\n",
       "dtype: int64"
      ]
     },
     "execution_count": 11,
     "metadata": {},
     "output_type": "execute_result"
    }
   ],
   "source": [
    "test=handle_missing_values(test,num_cols,cat_cols)\n",
    "test.isnull().sum()"
   ]
  },
  {
   "cell_type": "code",
   "execution_count": 12,
   "id": "6b373f67",
   "metadata": {
    "execution": {
     "iopub.execute_input": "2024-08-27T16:31:55.452553Z",
     "iopub.status.busy": "2024-08-27T16:31:55.451840Z",
     "iopub.status.idle": "2024-08-27T16:31:55.476547Z",
     "shell.execute_reply": "2024-08-27T16:31:55.475530Z"
    },
    "papermill": {
     "duration": 0.045541,
     "end_time": "2024-08-27T16:31:55.478620",
     "exception": false,
     "start_time": "2024-08-27T16:31:55.433079",
     "status": "completed"
    },
    "tags": []
   },
   "outputs": [
    {
     "data": {
      "text/html": [
       "<div>\n",
       "<style scoped>\n",
       "    .dataframe tbody tr th:only-of-type {\n",
       "        vertical-align: middle;\n",
       "    }\n",
       "\n",
       "    .dataframe tbody tr th {\n",
       "        vertical-align: top;\n",
       "    }\n",
       "\n",
       "    .dataframe thead th {\n",
       "        text-align: right;\n",
       "    }\n",
       "</style>\n",
       "<table border=\"1\" class=\"dataframe\">\n",
       "  <thead>\n",
       "    <tr style=\"text-align: right;\">\n",
       "      <th></th>\n",
       "      <th>id</th>\n",
       "      <th>class</th>\n",
       "      <th>cap-diameter</th>\n",
       "      <th>cap-shape</th>\n",
       "      <th>cap-surface</th>\n",
       "      <th>cap-color</th>\n",
       "      <th>does-bruise-or-bleed</th>\n",
       "      <th>gill-attachment</th>\n",
       "      <th>gill-spacing</th>\n",
       "      <th>gill-color</th>\n",
       "      <th>...</th>\n",
       "      <th>stem-width</th>\n",
       "      <th>stem-root</th>\n",
       "      <th>stem-surface</th>\n",
       "      <th>stem-color</th>\n",
       "      <th>veil-color</th>\n",
       "      <th>has-ring</th>\n",
       "      <th>ring-type</th>\n",
       "      <th>spore-print-color</th>\n",
       "      <th>habitat</th>\n",
       "      <th>season</th>\n",
       "    </tr>\n",
       "  </thead>\n",
       "  <tbody>\n",
       "    <tr>\n",
       "      <th>0</th>\n",
       "      <td>0</td>\n",
       "      <td>e</td>\n",
       "      <td>8.80</td>\n",
       "      <td>f</td>\n",
       "      <td>s</td>\n",
       "      <td>u</td>\n",
       "      <td>f</td>\n",
       "      <td>a</td>\n",
       "      <td>c</td>\n",
       "      <td>w</td>\n",
       "      <td>...</td>\n",
       "      <td>15.39</td>\n",
       "      <td>b</td>\n",
       "      <td>s</td>\n",
       "      <td>w</td>\n",
       "      <td>w</td>\n",
       "      <td>f</td>\n",
       "      <td>f</td>\n",
       "      <td>k</td>\n",
       "      <td>d</td>\n",
       "      <td>a</td>\n",
       "    </tr>\n",
       "    <tr>\n",
       "      <th>1</th>\n",
       "      <td>1</td>\n",
       "      <td>p</td>\n",
       "      <td>4.51</td>\n",
       "      <td>x</td>\n",
       "      <td>h</td>\n",
       "      <td>o</td>\n",
       "      <td>f</td>\n",
       "      <td>a</td>\n",
       "      <td>c</td>\n",
       "      <td>n</td>\n",
       "      <td>...</td>\n",
       "      <td>6.48</td>\n",
       "      <td>b</td>\n",
       "      <td>y</td>\n",
       "      <td>o</td>\n",
       "      <td>w</td>\n",
       "      <td>t</td>\n",
       "      <td>z</td>\n",
       "      <td>k</td>\n",
       "      <td>d</td>\n",
       "      <td>w</td>\n",
       "    </tr>\n",
       "    <tr>\n",
       "      <th>2</th>\n",
       "      <td>2</td>\n",
       "      <td>e</td>\n",
       "      <td>6.94</td>\n",
       "      <td>f</td>\n",
       "      <td>s</td>\n",
       "      <td>b</td>\n",
       "      <td>f</td>\n",
       "      <td>x</td>\n",
       "      <td>c</td>\n",
       "      <td>w</td>\n",
       "      <td>...</td>\n",
       "      <td>9.93</td>\n",
       "      <td>b</td>\n",
       "      <td>s</td>\n",
       "      <td>n</td>\n",
       "      <td>w</td>\n",
       "      <td>f</td>\n",
       "      <td>f</td>\n",
       "      <td>k</td>\n",
       "      <td>l</td>\n",
       "      <td>w</td>\n",
       "    </tr>\n",
       "    <tr>\n",
       "      <th>3</th>\n",
       "      <td>3</td>\n",
       "      <td>e</td>\n",
       "      <td>3.88</td>\n",
       "      <td>f</td>\n",
       "      <td>y</td>\n",
       "      <td>g</td>\n",
       "      <td>f</td>\n",
       "      <td>s</td>\n",
       "      <td>c</td>\n",
       "      <td>g</td>\n",
       "      <td>...</td>\n",
       "      <td>6.53</td>\n",
       "      <td>b</td>\n",
       "      <td>s</td>\n",
       "      <td>w</td>\n",
       "      <td>w</td>\n",
       "      <td>f</td>\n",
       "      <td>f</td>\n",
       "      <td>k</td>\n",
       "      <td>d</td>\n",
       "      <td>u</td>\n",
       "    </tr>\n",
       "    <tr>\n",
       "      <th>4</th>\n",
       "      <td>4</td>\n",
       "      <td>e</td>\n",
       "      <td>5.85</td>\n",
       "      <td>x</td>\n",
       "      <td>l</td>\n",
       "      <td>w</td>\n",
       "      <td>f</td>\n",
       "      <td>d</td>\n",
       "      <td>c</td>\n",
       "      <td>w</td>\n",
       "      <td>...</td>\n",
       "      <td>8.36</td>\n",
       "      <td>b</td>\n",
       "      <td>s</td>\n",
       "      <td>w</td>\n",
       "      <td>w</td>\n",
       "      <td>f</td>\n",
       "      <td>f</td>\n",
       "      <td>k</td>\n",
       "      <td>g</td>\n",
       "      <td>a</td>\n",
       "    </tr>\n",
       "  </tbody>\n",
       "</table>\n",
       "<p>5 rows × 21 columns</p>\n",
       "</div>"
      ],
      "text/plain": [
       "   id class  cap-diameter cap-shape cap-surface cap-color  \\\n",
       "0   0     e          8.80         f           s         u   \n",
       "1   1     p          4.51         x           h         o   \n",
       "2   2     e          6.94         f           s         b   \n",
       "3   3     e          3.88         f           y         g   \n",
       "4   4     e          5.85         x           l         w   \n",
       "\n",
       "  does-bruise-or-bleed gill-attachment gill-spacing gill-color  ...  \\\n",
       "0                    f               a            c          w  ...   \n",
       "1                    f               a            c          n  ...   \n",
       "2                    f               x            c          w  ...   \n",
       "3                    f               s            c          g  ...   \n",
       "4                    f               d            c          w  ...   \n",
       "\n",
       "   stem-width  stem-root stem-surface stem-color veil-color has-ring  \\\n",
       "0       15.39          b            s          w          w        f   \n",
       "1        6.48          b            y          o          w        t   \n",
       "2        9.93          b            s          n          w        f   \n",
       "3        6.53          b            s          w          w        f   \n",
       "4        8.36          b            s          w          w        f   \n",
       "\n",
       "  ring-type spore-print-color habitat season  \n",
       "0         f                 k       d      a  \n",
       "1         z                 k       d      w  \n",
       "2         f                 k       l      w  \n",
       "3         f                 k       d      u  \n",
       "4         f                 k       g      a  \n",
       "\n",
       "[5 rows x 21 columns]"
      ]
     },
     "execution_count": 12,
     "metadata": {},
     "output_type": "execute_result"
    }
   ],
   "source": [
    "train.head()"
   ]
  },
  {
   "cell_type": "markdown",
   "id": "ae22af3c",
   "metadata": {
    "papermill": {
     "duration": 0.017787,
     "end_time": "2024-08-27T16:31:55.514680",
     "exception": false,
     "start_time": "2024-08-27T16:31:55.496893",
     "status": "completed"
    },
    "tags": []
   },
   "source": [
    "# Encoding\n"
   ]
  },
  {
   "cell_type": "code",
   "execution_count": 13,
   "id": "ae2e873e",
   "metadata": {
    "execution": {
     "iopub.execute_input": "2024-08-27T16:31:55.552971Z",
     "iopub.status.busy": "2024-08-27T16:31:55.552152Z",
     "iopub.status.idle": "2024-08-27T16:31:55.561508Z",
     "shell.execute_reply": "2024-08-27T16:31:55.560539Z"
    },
    "papermill": {
     "duration": 0.031023,
     "end_time": "2024-08-27T16:31:55.563558",
     "exception": false,
     "start_time": "2024-08-27T16:31:55.532535",
     "status": "completed"
    },
    "tags": []
   },
   "outputs": [],
   "source": [
    "from sklearn.preprocessing import OrdinalEncoder, LabelEncoder\n",
    "\n",
    "class DataEncoder:\n",
    "    def __init__(self, cat_cols, target_col=\"class\"):\n",
    "        self.cat_cols = cat_cols\n",
    "        self.target_col = target_col\n",
    "        self.ordinal_encoder = OrdinalEncoder(handle_unknown='use_encoded_value', unknown_value=-1)\n",
    "        self.label_encoder = LabelEncoder()\n",
    "        \n",
    "    def fit_transform(self, train):\n",
    "        train[self.cat_cols] = self.ordinal_encoder.fit_transform(train[self.cat_cols])\n",
    "        train[self.target_col] = self.label_encoder.fit_transform(train[self.target_col])\n",
    "        return train\n",
    "\n",
    "    def transform(self, test):\n",
    "        test[self.cat_cols] = self.ordinal_encoder.transform(test[self.cat_cols])\n",
    "        return test\n",
    "\n",
    "    def transform_new_data(self, df):\n",
    "        df[self.cat_cols] = self.ordinal_encoder.transform(df[self.cat_cols])\n",
    "        return df\n",
    "\n",
    "# Standalone function for encoding\n",
    "def encoding(train, test, cat_cols, target_col=\"class\"):\n",
    "    encoder = DataEncoder(cat_cols, target_col)\n",
    "    train_encoded = encoder.fit_transform(train)\n",
    "    test_encoded = encoder.transform(test)\n",
    "    return train_encoded, test_encoded, encoder\n"
   ]
  },
  {
   "cell_type": "code",
   "execution_count": 14,
   "id": "9dd2d283",
   "metadata": {
    "execution": {
     "iopub.execute_input": "2024-08-27T16:31:55.601674Z",
     "iopub.status.busy": "2024-08-27T16:31:55.600978Z",
     "iopub.status.idle": "2024-08-27T16:31:55.606304Z",
     "shell.execute_reply": "2024-08-27T16:31:55.605404Z"
    },
    "papermill": {
     "duration": 0.026745,
     "end_time": "2024-08-27T16:31:55.608259",
     "exception": false,
     "start_time": "2024-08-27T16:31:55.581514",
     "status": "completed"
    },
    "tags": []
   },
   "outputs": [],
   "source": [
    "# Standalone function for encoding\n",
    "def encoding(train, test, cat_cols, target_col=\"class\"):\n",
    "    encoder = DataEncoder(cat_cols, target_col)\n",
    "    train_encoded = encoder.fit_transform(train)\n",
    "    test_encoded = encoder.transform(test)\n",
    "    return train_encoded, test_encoded, encoder"
   ]
  },
  {
   "cell_type": "code",
   "execution_count": 15,
   "id": "08e803e5",
   "metadata": {
    "execution": {
     "iopub.execute_input": "2024-08-27T16:31:55.647984Z",
     "iopub.status.busy": "2024-08-27T16:31:55.647261Z",
     "iopub.status.idle": "2024-08-27T16:32:29.581068Z",
     "shell.execute_reply": "2024-08-27T16:32:29.579979Z"
    },
    "papermill": {
     "duration": 33.957184,
     "end_time": "2024-08-27T16:32:29.583541",
     "exception": false,
     "start_time": "2024-08-27T16:31:55.626357",
     "status": "completed"
    },
    "tags": []
   },
   "outputs": [],
   "source": [
    "train, test, encoder = encoding(train, test, cat_cols,target_col=\"class\")"
   ]
  },
  {
   "cell_type": "code",
   "execution_count": 16,
   "id": "9a217cd5",
   "metadata": {
    "execution": {
     "iopub.execute_input": "2024-08-27T16:32:29.620320Z",
     "iopub.status.busy": "2024-08-27T16:32:29.619967Z",
     "iopub.status.idle": "2024-08-27T16:32:29.651718Z",
     "shell.execute_reply": "2024-08-27T16:32:29.650766Z"
    },
    "papermill": {
     "duration": 0.052705,
     "end_time": "2024-08-27T16:32:29.654030",
     "exception": false,
     "start_time": "2024-08-27T16:32:29.601325",
     "status": "completed"
    },
    "tags": []
   },
   "outputs": [
    {
     "data": {
      "text/html": [
       "<div>\n",
       "<style scoped>\n",
       "    .dataframe tbody tr th:only-of-type {\n",
       "        vertical-align: middle;\n",
       "    }\n",
       "\n",
       "    .dataframe tbody tr th {\n",
       "        vertical-align: top;\n",
       "    }\n",
       "\n",
       "    .dataframe thead th {\n",
       "        text-align: right;\n",
       "    }\n",
       "</style>\n",
       "<table border=\"1\" class=\"dataframe\">\n",
       "  <thead>\n",
       "    <tr style=\"text-align: right;\">\n",
       "      <th></th>\n",
       "      <th>id</th>\n",
       "      <th>class</th>\n",
       "      <th>cap-diameter</th>\n",
       "      <th>cap-shape</th>\n",
       "      <th>cap-surface</th>\n",
       "      <th>cap-color</th>\n",
       "      <th>does-bruise-or-bleed</th>\n",
       "      <th>gill-attachment</th>\n",
       "      <th>gill-spacing</th>\n",
       "      <th>gill-color</th>\n",
       "      <th>...</th>\n",
       "      <th>stem-width</th>\n",
       "      <th>stem-root</th>\n",
       "      <th>stem-surface</th>\n",
       "      <th>stem-color</th>\n",
       "      <th>veil-color</th>\n",
       "      <th>has-ring</th>\n",
       "      <th>ring-type</th>\n",
       "      <th>spore-print-color</th>\n",
       "      <th>habitat</th>\n",
       "      <th>season</th>\n",
       "    </tr>\n",
       "  </thead>\n",
       "  <tbody>\n",
       "    <tr>\n",
       "      <th>0</th>\n",
       "      <td>0</td>\n",
       "      <td>0</td>\n",
       "      <td>8.80</td>\n",
       "      <td>53.0</td>\n",
       "      <td>72.0</td>\n",
       "      <td>72.0</td>\n",
       "      <td>8.0</td>\n",
       "      <td>44.0</td>\n",
       "      <td>28.0</td>\n",
       "      <td>59.0</td>\n",
       "      <td>...</td>\n",
       "      <td>15.39</td>\n",
       "      <td>15.0</td>\n",
       "      <td>51.0</td>\n",
       "      <td>55.0</td>\n",
       "      <td>21.0</td>\n",
       "      <td>5.0</td>\n",
       "      <td>18.0</td>\n",
       "      <td>17.0</td>\n",
       "      <td>25.0</td>\n",
       "      <td>0.0</td>\n",
       "    </tr>\n",
       "    <tr>\n",
       "      <th>1</th>\n",
       "      <td>1</td>\n",
       "      <td>1</td>\n",
       "      <td>4.51</td>\n",
       "      <td>71.0</td>\n",
       "      <td>56.0</td>\n",
       "      <td>64.0</td>\n",
       "      <td>8.0</td>\n",
       "      <td>44.0</td>\n",
       "      <td>28.0</td>\n",
       "      <td>46.0</td>\n",
       "      <td>...</td>\n",
       "      <td>6.48</td>\n",
       "      <td>15.0</td>\n",
       "      <td>58.0</td>\n",
       "      <td>47.0</td>\n",
       "      <td>21.0</td>\n",
       "      <td>18.0</td>\n",
       "      <td>39.0</td>\n",
       "      <td>17.0</td>\n",
       "      <td>25.0</td>\n",
       "      <td>3.0</td>\n",
       "    </tr>\n",
       "    <tr>\n",
       "      <th>2</th>\n",
       "      <td>2</td>\n",
       "      <td>0</td>\n",
       "      <td>6.94</td>\n",
       "      <td>53.0</td>\n",
       "      <td>72.0</td>\n",
       "      <td>49.0</td>\n",
       "      <td>8.0</td>\n",
       "      <td>75.0</td>\n",
       "      <td>28.0</td>\n",
       "      <td>59.0</td>\n",
       "      <td>...</td>\n",
       "      <td>9.93</td>\n",
       "      <td>15.0</td>\n",
       "      <td>51.0</td>\n",
       "      <td>46.0</td>\n",
       "      <td>21.0</td>\n",
       "      <td>5.0</td>\n",
       "      <td>18.0</td>\n",
       "      <td>17.0</td>\n",
       "      <td>36.0</td>\n",
       "      <td>3.0</td>\n",
       "    </tr>\n",
       "    <tr>\n",
       "      <th>3</th>\n",
       "      <td>3</td>\n",
       "      <td>0</td>\n",
       "      <td>3.88</td>\n",
       "      <td>53.0</td>\n",
       "      <td>81.0</td>\n",
       "      <td>57.0</td>\n",
       "      <td>8.0</td>\n",
       "      <td>70.0</td>\n",
       "      <td>28.0</td>\n",
       "      <td>37.0</td>\n",
       "      <td>...</td>\n",
       "      <td>6.53</td>\n",
       "      <td>15.0</td>\n",
       "      <td>51.0</td>\n",
       "      <td>55.0</td>\n",
       "      <td>21.0</td>\n",
       "      <td>5.0</td>\n",
       "      <td>18.0</td>\n",
       "      <td>17.0</td>\n",
       "      <td>25.0</td>\n",
       "      <td>2.0</td>\n",
       "    </tr>\n",
       "    <tr>\n",
       "      <th>4</th>\n",
       "      <td>4</td>\n",
       "      <td>0</td>\n",
       "      <td>5.85</td>\n",
       "      <td>71.0</td>\n",
       "      <td>65.0</td>\n",
       "      <td>74.0</td>\n",
       "      <td>8.0</td>\n",
       "      <td>47.0</td>\n",
       "      <td>28.0</td>\n",
       "      <td>59.0</td>\n",
       "      <td>...</td>\n",
       "      <td>8.36</td>\n",
       "      <td>15.0</td>\n",
       "      <td>51.0</td>\n",
       "      <td>55.0</td>\n",
       "      <td>21.0</td>\n",
       "      <td>5.0</td>\n",
       "      <td>18.0</td>\n",
       "      <td>17.0</td>\n",
       "      <td>29.0</td>\n",
       "      <td>0.0</td>\n",
       "    </tr>\n",
       "  </tbody>\n",
       "</table>\n",
       "<p>5 rows × 21 columns</p>\n",
       "</div>"
      ],
      "text/plain": [
       "   id  class  cap-diameter  cap-shape  cap-surface  cap-color  \\\n",
       "0   0      0          8.80       53.0         72.0       72.0   \n",
       "1   1      1          4.51       71.0         56.0       64.0   \n",
       "2   2      0          6.94       53.0         72.0       49.0   \n",
       "3   3      0          3.88       53.0         81.0       57.0   \n",
       "4   4      0          5.85       71.0         65.0       74.0   \n",
       "\n",
       "   does-bruise-or-bleed  gill-attachment  gill-spacing  gill-color  ...  \\\n",
       "0                   8.0             44.0          28.0        59.0  ...   \n",
       "1                   8.0             44.0          28.0        46.0  ...   \n",
       "2                   8.0             75.0          28.0        59.0  ...   \n",
       "3                   8.0             70.0          28.0        37.0  ...   \n",
       "4                   8.0             47.0          28.0        59.0  ...   \n",
       "\n",
       "   stem-width  stem-root  stem-surface  stem-color  veil-color  has-ring  \\\n",
       "0       15.39       15.0          51.0        55.0        21.0       5.0   \n",
       "1        6.48       15.0          58.0        47.0        21.0      18.0   \n",
       "2        9.93       15.0          51.0        46.0        21.0       5.0   \n",
       "3        6.53       15.0          51.0        55.0        21.0       5.0   \n",
       "4        8.36       15.0          51.0        55.0        21.0       5.0   \n",
       "\n",
       "   ring-type  spore-print-color  habitat  season  \n",
       "0       18.0               17.0     25.0     0.0  \n",
       "1       39.0               17.0     25.0     3.0  \n",
       "2       18.0               17.0     36.0     3.0  \n",
       "3       18.0               17.0     25.0     2.0  \n",
       "4       18.0               17.0     29.0     0.0  \n",
       "\n",
       "[5 rows x 21 columns]"
      ]
     },
     "execution_count": 16,
     "metadata": {},
     "output_type": "execute_result"
    }
   ],
   "source": [
    "train.head()"
   ]
  },
  {
   "cell_type": "markdown",
   "id": "9a48c153",
   "metadata": {
    "papermill": {
     "duration": 0.017639,
     "end_time": "2024-08-27T16:32:29.690416",
     "exception": false,
     "start_time": "2024-08-27T16:32:29.672777",
     "status": "completed"
    },
    "tags": []
   },
   "source": [
    "# Feature Engineering"
   ]
  },
  {
   "cell_type": "code",
   "execution_count": 17,
   "id": "1e304809",
   "metadata": {
    "execution": {
     "iopub.execute_input": "2024-08-27T16:32:29.729167Z",
     "iopub.status.busy": "2024-08-27T16:32:29.728419Z",
     "iopub.status.idle": "2024-08-27T16:32:29.733326Z",
     "shell.execute_reply": "2024-08-27T16:32:29.732393Z"
    },
    "papermill": {
     "duration": 0.026473,
     "end_time": "2024-08-27T16:32:29.735393",
     "exception": false,
     "start_time": "2024-08-27T16:32:29.708920",
     "status": "completed"
    },
    "tags": []
   },
   "outputs": [],
   "source": [
    "# Cap color and surface interaction (now numeric after encoding)\n",
    "# def feature_engineering(df):\n",
    "#     epsilon=1e-8\n",
    "#     df['cap_color_surface_interaction'] = df['cap-color'] + df['cap-surface']\n",
    "#     df['gill_color_spacing_interaction'] = df['gill-color'] + df['gill-spacing']\n",
    "#     df['cap_stem_diameter_ratio'] = df['cap-diameter'] / (df['stem-width'] + epsilon)\n",
    "#     df['stem_root_surface_interaction'] = df['stem-root'] + df['stem-surface']\n",
    "#     df['season_habitat_interaction'] = df['season'] + df['habitat']\n",
    "#     df['cap_shape_gill_attachment_interaction'] = df['cap-shape'] + df['gill-attachment']\n",
    "#     df['cap_stem_height_ratio'] = df['cap-diameter'] / (df['stem-height'] + epsilon)\n",
    "#     return df\n",
    "\n"
   ]
  },
  {
   "cell_type": "code",
   "execution_count": 18,
   "id": "8dedfb59",
   "metadata": {
    "execution": {
     "iopub.execute_input": "2024-08-27T16:32:29.777016Z",
     "iopub.status.busy": "2024-08-27T16:32:29.776277Z",
     "iopub.status.idle": "2024-08-27T16:32:29.780740Z",
     "shell.execute_reply": "2024-08-27T16:32:29.779715Z"
    },
    "papermill": {
     "duration": 0.028343,
     "end_time": "2024-08-27T16:32:29.782852",
     "exception": false,
     "start_time": "2024-08-27T16:32:29.754509",
     "status": "completed"
    },
    "tags": []
   },
   "outputs": [],
   "source": [
    "# # applying feature engineering\n",
    "# train = feature_engineering(train)\n",
    "# test = feature_engineering(test)"
   ]
  },
  {
   "cell_type": "code",
   "execution_count": 19,
   "id": "ffce6f9d",
   "metadata": {
    "execution": {
     "iopub.execute_input": "2024-08-27T16:32:29.823627Z",
     "iopub.status.busy": "2024-08-27T16:32:29.822896Z",
     "iopub.status.idle": "2024-08-27T16:32:29.828165Z",
     "shell.execute_reply": "2024-08-27T16:32:29.827277Z"
    },
    "papermill": {
     "duration": 0.028501,
     "end_time": "2024-08-27T16:32:29.830711",
     "exception": false,
     "start_time": "2024-08-27T16:32:29.802210",
     "status": "completed"
    },
    "tags": []
   },
   "outputs": [
    {
     "name": "stdout",
     "output_type": "stream",
     "text": [
      "(3116945, 21) (2077964, 20)\n"
     ]
    }
   ],
   "source": [
    "print(train.shape,test.shape)"
   ]
  },
  {
   "cell_type": "code",
   "execution_count": 20,
   "id": "29d357a4",
   "metadata": {
    "execution": {
     "iopub.execute_input": "2024-08-27T16:32:29.870702Z",
     "iopub.status.busy": "2024-08-27T16:32:29.869803Z",
     "iopub.status.idle": "2024-08-27T16:32:29.904159Z",
     "shell.execute_reply": "2024-08-27T16:32:29.902983Z"
    },
    "papermill": {
     "duration": 0.056726,
     "end_time": "2024-08-27T16:32:29.906329",
     "exception": false,
     "start_time": "2024-08-27T16:32:29.849603",
     "status": "completed"
    },
    "tags": []
   },
   "outputs": [
    {
     "data": {
      "text/html": [
       "<div>\n",
       "<style scoped>\n",
       "    .dataframe tbody tr th:only-of-type {\n",
       "        vertical-align: middle;\n",
       "    }\n",
       "\n",
       "    .dataframe tbody tr th {\n",
       "        vertical-align: top;\n",
       "    }\n",
       "\n",
       "    .dataframe thead th {\n",
       "        text-align: right;\n",
       "    }\n",
       "</style>\n",
       "<table border=\"1\" class=\"dataframe\">\n",
       "  <thead>\n",
       "    <tr style=\"text-align: right;\">\n",
       "      <th></th>\n",
       "      <th>id</th>\n",
       "      <th>class</th>\n",
       "      <th>cap-diameter</th>\n",
       "      <th>cap-shape</th>\n",
       "      <th>cap-surface</th>\n",
       "      <th>cap-color</th>\n",
       "      <th>does-bruise-or-bleed</th>\n",
       "      <th>gill-attachment</th>\n",
       "      <th>gill-spacing</th>\n",
       "      <th>gill-color</th>\n",
       "      <th>...</th>\n",
       "      <th>stem-width</th>\n",
       "      <th>stem-root</th>\n",
       "      <th>stem-surface</th>\n",
       "      <th>stem-color</th>\n",
       "      <th>veil-color</th>\n",
       "      <th>has-ring</th>\n",
       "      <th>ring-type</th>\n",
       "      <th>spore-print-color</th>\n",
       "      <th>habitat</th>\n",
       "      <th>season</th>\n",
       "    </tr>\n",
       "  </thead>\n",
       "  <tbody>\n",
       "    <tr>\n",
       "      <th>0</th>\n",
       "      <td>0</td>\n",
       "      <td>0</td>\n",
       "      <td>8.80</td>\n",
       "      <td>53.0</td>\n",
       "      <td>72.0</td>\n",
       "      <td>72.0</td>\n",
       "      <td>8.0</td>\n",
       "      <td>44.0</td>\n",
       "      <td>28.0</td>\n",
       "      <td>59.0</td>\n",
       "      <td>...</td>\n",
       "      <td>15.39</td>\n",
       "      <td>15.0</td>\n",
       "      <td>51.0</td>\n",
       "      <td>55.0</td>\n",
       "      <td>21.0</td>\n",
       "      <td>5.0</td>\n",
       "      <td>18.0</td>\n",
       "      <td>17.0</td>\n",
       "      <td>25.0</td>\n",
       "      <td>0.0</td>\n",
       "    </tr>\n",
       "    <tr>\n",
       "      <th>1</th>\n",
       "      <td>1</td>\n",
       "      <td>1</td>\n",
       "      <td>4.51</td>\n",
       "      <td>71.0</td>\n",
       "      <td>56.0</td>\n",
       "      <td>64.0</td>\n",
       "      <td>8.0</td>\n",
       "      <td>44.0</td>\n",
       "      <td>28.0</td>\n",
       "      <td>46.0</td>\n",
       "      <td>...</td>\n",
       "      <td>6.48</td>\n",
       "      <td>15.0</td>\n",
       "      <td>58.0</td>\n",
       "      <td>47.0</td>\n",
       "      <td>21.0</td>\n",
       "      <td>18.0</td>\n",
       "      <td>39.0</td>\n",
       "      <td>17.0</td>\n",
       "      <td>25.0</td>\n",
       "      <td>3.0</td>\n",
       "    </tr>\n",
       "    <tr>\n",
       "      <th>2</th>\n",
       "      <td>2</td>\n",
       "      <td>0</td>\n",
       "      <td>6.94</td>\n",
       "      <td>53.0</td>\n",
       "      <td>72.0</td>\n",
       "      <td>49.0</td>\n",
       "      <td>8.0</td>\n",
       "      <td>75.0</td>\n",
       "      <td>28.0</td>\n",
       "      <td>59.0</td>\n",
       "      <td>...</td>\n",
       "      <td>9.93</td>\n",
       "      <td>15.0</td>\n",
       "      <td>51.0</td>\n",
       "      <td>46.0</td>\n",
       "      <td>21.0</td>\n",
       "      <td>5.0</td>\n",
       "      <td>18.0</td>\n",
       "      <td>17.0</td>\n",
       "      <td>36.0</td>\n",
       "      <td>3.0</td>\n",
       "    </tr>\n",
       "    <tr>\n",
       "      <th>3</th>\n",
       "      <td>3</td>\n",
       "      <td>0</td>\n",
       "      <td>3.88</td>\n",
       "      <td>53.0</td>\n",
       "      <td>81.0</td>\n",
       "      <td>57.0</td>\n",
       "      <td>8.0</td>\n",
       "      <td>70.0</td>\n",
       "      <td>28.0</td>\n",
       "      <td>37.0</td>\n",
       "      <td>...</td>\n",
       "      <td>6.53</td>\n",
       "      <td>15.0</td>\n",
       "      <td>51.0</td>\n",
       "      <td>55.0</td>\n",
       "      <td>21.0</td>\n",
       "      <td>5.0</td>\n",
       "      <td>18.0</td>\n",
       "      <td>17.0</td>\n",
       "      <td>25.0</td>\n",
       "      <td>2.0</td>\n",
       "    </tr>\n",
       "    <tr>\n",
       "      <th>4</th>\n",
       "      <td>4</td>\n",
       "      <td>0</td>\n",
       "      <td>5.85</td>\n",
       "      <td>71.0</td>\n",
       "      <td>65.0</td>\n",
       "      <td>74.0</td>\n",
       "      <td>8.0</td>\n",
       "      <td>47.0</td>\n",
       "      <td>28.0</td>\n",
       "      <td>59.0</td>\n",
       "      <td>...</td>\n",
       "      <td>8.36</td>\n",
       "      <td>15.0</td>\n",
       "      <td>51.0</td>\n",
       "      <td>55.0</td>\n",
       "      <td>21.0</td>\n",
       "      <td>5.0</td>\n",
       "      <td>18.0</td>\n",
       "      <td>17.0</td>\n",
       "      <td>29.0</td>\n",
       "      <td>0.0</td>\n",
       "    </tr>\n",
       "  </tbody>\n",
       "</table>\n",
       "<p>5 rows × 21 columns</p>\n",
       "</div>"
      ],
      "text/plain": [
       "   id  class  cap-diameter  cap-shape  cap-surface  cap-color  \\\n",
       "0   0      0          8.80       53.0         72.0       72.0   \n",
       "1   1      1          4.51       71.0         56.0       64.0   \n",
       "2   2      0          6.94       53.0         72.0       49.0   \n",
       "3   3      0          3.88       53.0         81.0       57.0   \n",
       "4   4      0          5.85       71.0         65.0       74.0   \n",
       "\n",
       "   does-bruise-or-bleed  gill-attachment  gill-spacing  gill-color  ...  \\\n",
       "0                   8.0             44.0          28.0        59.0  ...   \n",
       "1                   8.0             44.0          28.0        46.0  ...   \n",
       "2                   8.0             75.0          28.0        59.0  ...   \n",
       "3                   8.0             70.0          28.0        37.0  ...   \n",
       "4                   8.0             47.0          28.0        59.0  ...   \n",
       "\n",
       "   stem-width  stem-root  stem-surface  stem-color  veil-color  has-ring  \\\n",
       "0       15.39       15.0          51.0        55.0        21.0       5.0   \n",
       "1        6.48       15.0          58.0        47.0        21.0      18.0   \n",
       "2        9.93       15.0          51.0        46.0        21.0       5.0   \n",
       "3        6.53       15.0          51.0        55.0        21.0       5.0   \n",
       "4        8.36       15.0          51.0        55.0        21.0       5.0   \n",
       "\n",
       "   ring-type  spore-print-color  habitat  season  \n",
       "0       18.0               17.0     25.0     0.0  \n",
       "1       39.0               17.0     25.0     3.0  \n",
       "2       18.0               17.0     36.0     3.0  \n",
       "3       18.0               17.0     25.0     2.0  \n",
       "4       18.0               17.0     29.0     0.0  \n",
       "\n",
       "[5 rows x 21 columns]"
      ]
     },
     "execution_count": 20,
     "metadata": {},
     "output_type": "execute_result"
    }
   ],
   "source": [
    "train.head()"
   ]
  },
  {
   "cell_type": "code",
   "execution_count": 21,
   "id": "19b834f0",
   "metadata": {
    "execution": {
     "iopub.execute_input": "2024-08-27T16:32:29.945186Z",
     "iopub.status.busy": "2024-08-27T16:32:29.944375Z",
     "iopub.status.idle": "2024-08-27T16:32:30.058524Z",
     "shell.execute_reply": "2024-08-27T16:32:30.057287Z"
    },
    "papermill": {
     "duration": 0.135813,
     "end_time": "2024-08-27T16:32:30.061005",
     "exception": false,
     "start_time": "2024-08-27T16:32:29.925192",
     "status": "completed"
    },
    "tags": []
   },
   "outputs": [
    {
     "data": {
      "text/plain": [
       "id                      0\n",
       "class                   0\n",
       "cap-diameter            0\n",
       "cap-shape               0\n",
       "cap-surface             0\n",
       "cap-color               0\n",
       "does-bruise-or-bleed    0\n",
       "gill-attachment         0\n",
       "gill-spacing            0\n",
       "gill-color              0\n",
       "stem-height             0\n",
       "stem-width              0\n",
       "stem-root               0\n",
       "stem-surface            0\n",
       "stem-color              0\n",
       "veil-color              0\n",
       "has-ring                0\n",
       "ring-type               0\n",
       "spore-print-color       0\n",
       "habitat                 0\n",
       "season                  0\n",
       "dtype: int64"
      ]
     },
     "execution_count": 21,
     "metadata": {},
     "output_type": "execute_result"
    }
   ],
   "source": [
    "np.isinf(train).sum()"
   ]
  },
  {
   "cell_type": "markdown",
   "id": "efde7ce9",
   "metadata": {
    "papermill": {
     "duration": 0.018696,
     "end_time": "2024-08-27T16:32:30.099926",
     "exception": false,
     "start_time": "2024-08-27T16:32:30.081230",
     "status": "completed"
    },
    "tags": []
   },
   "source": [
    "# Scaling"
   ]
  },
  {
   "cell_type": "code",
   "execution_count": 22,
   "id": "4ae76587",
   "metadata": {
    "execution": {
     "iopub.execute_input": "2024-08-27T16:32:30.139650Z",
     "iopub.status.busy": "2024-08-27T16:32:30.138700Z",
     "iopub.status.idle": "2024-08-27T16:32:30.146420Z",
     "shell.execute_reply": "2024-08-27T16:32:30.145453Z"
    },
    "papermill": {
     "duration": 0.029857,
     "end_time": "2024-08-27T16:32:30.148524",
     "exception": false,
     "start_time": "2024-08-27T16:32:30.118667",
     "status": "completed"
    },
    "tags": []
   },
   "outputs": [],
   "source": [
    "class StandardScalerWrapper:\n",
    "    def __init__(self):\n",
    "        self.scaler = StandardScaler()\n",
    "\n",
    "    def fit_transform(self, train):\n",
    "        self.cols_to_scale = train.select_dtypes(include=[\"float\", \"int\"]).columns.difference([\"class\",\"id\"])\n",
    "        train[self.cols_to_scale] = self.scaler.fit_transform(train[self.cols_to_scale])\n",
    "        return train\n",
    "\n",
    "    def transform(self, test):\n",
    "        test[self.cols_to_scale] = self.scaler.transform(test[self.cols_to_scale])\n",
    "        return test\n",
    "    \n",
    "    def transform_new(self, df):\n",
    "        df[self.cols_to_scale] = self.scaler.transform(df[self.cols_to_scale])\n",
    "        return df\n",
    "\n"
   ]
  },
  {
   "cell_type": "code",
   "execution_count": 23,
   "id": "c38392fc",
   "metadata": {
    "execution": {
     "iopub.execute_input": "2024-08-27T16:32:30.188828Z",
     "iopub.status.busy": "2024-08-27T16:32:30.188136Z",
     "iopub.status.idle": "2024-08-27T16:32:32.858093Z",
     "shell.execute_reply": "2024-08-27T16:32:32.857247Z"
    },
    "papermill": {
     "duration": 2.692532,
     "end_time": "2024-08-27T16:32:32.860467",
     "exception": false,
     "start_time": "2024-08-27T16:32:30.167935",
     "status": "completed"
    },
    "tags": []
   },
   "outputs": [],
   "source": [
    "scaler_wrapper = StandardScalerWrapper()\n",
    "train = scaler_wrapper.fit_transform(train)\n",
    "test = scaler_wrapper.transform(test)"
   ]
  },
  {
   "cell_type": "code",
   "execution_count": 24,
   "id": "4200e771",
   "metadata": {
    "execution": {
     "iopub.execute_input": "2024-08-27T16:32:32.900392Z",
     "iopub.status.busy": "2024-08-27T16:32:32.899730Z",
     "iopub.status.idle": "2024-08-27T16:32:32.924240Z",
     "shell.execute_reply": "2024-08-27T16:32:32.923343Z"
    },
    "papermill": {
     "duration": 0.04688,
     "end_time": "2024-08-27T16:32:32.926213",
     "exception": false,
     "start_time": "2024-08-27T16:32:32.879333",
     "status": "completed"
    },
    "tags": []
   },
   "outputs": [
    {
     "data": {
      "text/html": [
       "<div>\n",
       "<style scoped>\n",
       "    .dataframe tbody tr th:only-of-type {\n",
       "        vertical-align: middle;\n",
       "    }\n",
       "\n",
       "    .dataframe tbody tr th {\n",
       "        vertical-align: top;\n",
       "    }\n",
       "\n",
       "    .dataframe thead th {\n",
       "        text-align: right;\n",
       "    }\n",
       "</style>\n",
       "<table border=\"1\" class=\"dataframe\">\n",
       "  <thead>\n",
       "    <tr style=\"text-align: right;\">\n",
       "      <th></th>\n",
       "      <th>id</th>\n",
       "      <th>class</th>\n",
       "      <th>cap-diameter</th>\n",
       "      <th>cap-shape</th>\n",
       "      <th>cap-surface</th>\n",
       "      <th>cap-color</th>\n",
       "      <th>does-bruise-or-bleed</th>\n",
       "      <th>gill-attachment</th>\n",
       "      <th>gill-spacing</th>\n",
       "      <th>gill-color</th>\n",
       "      <th>...</th>\n",
       "      <th>stem-width</th>\n",
       "      <th>stem-root</th>\n",
       "      <th>stem-surface</th>\n",
       "      <th>stem-color</th>\n",
       "      <th>veil-color</th>\n",
       "      <th>has-ring</th>\n",
       "      <th>ring-type</th>\n",
       "      <th>spore-print-color</th>\n",
       "      <th>habitat</th>\n",
       "      <th>season</th>\n",
       "    </tr>\n",
       "  </thead>\n",
       "  <tbody>\n",
       "    <tr>\n",
       "      <th>0</th>\n",
       "      <td>0</td>\n",
       "      <td>0</td>\n",
       "      <td>0.534606</td>\n",
       "      <td>-1.111069</td>\n",
       "      <td>0.329188</td>\n",
       "      <td>1.039733</td>\n",
       "      <td>-0.461411</td>\n",
       "      <td>-0.834809</td>\n",
       "      <td>-0.422058</td>\n",
       "      <td>0.895723</td>\n",
       "      <td>...</td>\n",
       "      <td>0.523282</td>\n",
       "      <td>-0.239241</td>\n",
       "      <td>0.111345</td>\n",
       "      <td>0.785557</td>\n",
       "      <td>0.120151</td>\n",
       "      <td>-0.561942</td>\n",
       "      <td>-0.294854</td>\n",
       "      <td>-0.202999</td>\n",
       "      <td>-0.535818</td>\n",
       "      <td>-0.954002</td>\n",
       "    </tr>\n",
       "    <tr>\n",
       "      <th>1</th>\n",
       "      <td>1</td>\n",
       "      <td>1</td>\n",
       "      <td>-0.386404</td>\n",
       "      <td>0.879158</td>\n",
       "      <td>-1.155119</td>\n",
       "      <td>-0.162778</td>\n",
       "      <td>-0.461411</td>\n",
       "      <td>-0.834809</td>\n",
       "      <td>-0.422058</td>\n",
       "      <td>-0.562029</td>\n",
       "      <td>...</td>\n",
       "      <td>-0.577333</td>\n",
       "      <td>-0.239241</td>\n",
       "      <td>1.931741</td>\n",
       "      <td>-0.540141</td>\n",
       "      <td>0.120151</td>\n",
       "      <td>1.779556</td>\n",
       "      <td>4.511319</td>\n",
       "      <td>-0.202999</td>\n",
       "      <td>-0.535818</td>\n",
       "      <td>1.762755</td>\n",
       "    </tr>\n",
       "    <tr>\n",
       "      <th>2</th>\n",
       "      <td>2</td>\n",
       "      <td>0</td>\n",
       "      <td>0.135287</td>\n",
       "      <td>-1.111069</td>\n",
       "      <td>0.329188</td>\n",
       "      <td>-2.417487</td>\n",
       "      <td>-0.461411</td>\n",
       "      <td>1.829251</td>\n",
       "      <td>-0.422058</td>\n",
       "      <td>0.895723</td>\n",
       "      <td>...</td>\n",
       "      <td>-0.151169</td>\n",
       "      <td>-0.239241</td>\n",
       "      <td>0.111345</td>\n",
       "      <td>-0.705853</td>\n",
       "      <td>0.120151</td>\n",
       "      <td>-0.561942</td>\n",
       "      <td>-0.294854</td>\n",
       "      <td>-0.202999</td>\n",
       "      <td>2.118464</td>\n",
       "      <td>1.762755</td>\n",
       "    </tr>\n",
       "    <tr>\n",
       "      <th>3</th>\n",
       "      <td>3</td>\n",
       "      <td>0</td>\n",
       "      <td>-0.521657</td>\n",
       "      <td>-1.111069</td>\n",
       "      <td>1.164112</td>\n",
       "      <td>-1.214976</td>\n",
       "      <td>-0.461411</td>\n",
       "      <td>1.399564</td>\n",
       "      <td>-0.422058</td>\n",
       "      <td>-1.571242</td>\n",
       "      <td>...</td>\n",
       "      <td>-0.571157</td>\n",
       "      <td>-0.239241</td>\n",
       "      <td>0.111345</td>\n",
       "      <td>0.785557</td>\n",
       "      <td>0.120151</td>\n",
       "      <td>-0.561942</td>\n",
       "      <td>-0.294854</td>\n",
       "      <td>-0.202999</td>\n",
       "      <td>-0.535818</td>\n",
       "      <td>0.857169</td>\n",
       "    </tr>\n",
       "    <tr>\n",
       "      <th>4</th>\n",
       "      <td>4</td>\n",
       "      <td>0</td>\n",
       "      <td>-0.098722</td>\n",
       "      <td>0.879158</td>\n",
       "      <td>-0.320196</td>\n",
       "      <td>1.340360</td>\n",
       "      <td>-0.461411</td>\n",
       "      <td>-0.576997</td>\n",
       "      <td>-0.422058</td>\n",
       "      <td>0.895723</td>\n",
       "      <td>...</td>\n",
       "      <td>-0.345105</td>\n",
       "      <td>-0.239241</td>\n",
       "      <td>0.111345</td>\n",
       "      <td>0.785557</td>\n",
       "      <td>0.120151</td>\n",
       "      <td>-0.561942</td>\n",
       "      <td>-0.294854</td>\n",
       "      <td>-0.202999</td>\n",
       "      <td>0.429376</td>\n",
       "      <td>-0.954002</td>\n",
       "    </tr>\n",
       "  </tbody>\n",
       "</table>\n",
       "<p>5 rows × 21 columns</p>\n",
       "</div>"
      ],
      "text/plain": [
       "   id  class  cap-diameter  cap-shape  cap-surface  cap-color  \\\n",
       "0   0      0      0.534606  -1.111069     0.329188   1.039733   \n",
       "1   1      1     -0.386404   0.879158    -1.155119  -0.162778   \n",
       "2   2      0      0.135287  -1.111069     0.329188  -2.417487   \n",
       "3   3      0     -0.521657  -1.111069     1.164112  -1.214976   \n",
       "4   4      0     -0.098722   0.879158    -0.320196   1.340360   \n",
       "\n",
       "   does-bruise-or-bleed  gill-attachment  gill-spacing  gill-color  ...  \\\n",
       "0             -0.461411        -0.834809     -0.422058    0.895723  ...   \n",
       "1             -0.461411        -0.834809     -0.422058   -0.562029  ...   \n",
       "2             -0.461411         1.829251     -0.422058    0.895723  ...   \n",
       "3             -0.461411         1.399564     -0.422058   -1.571242  ...   \n",
       "4             -0.461411        -0.576997     -0.422058    0.895723  ...   \n",
       "\n",
       "   stem-width  stem-root  stem-surface  stem-color  veil-color  has-ring  \\\n",
       "0    0.523282  -0.239241      0.111345    0.785557    0.120151 -0.561942   \n",
       "1   -0.577333  -0.239241      1.931741   -0.540141    0.120151  1.779556   \n",
       "2   -0.151169  -0.239241      0.111345   -0.705853    0.120151 -0.561942   \n",
       "3   -0.571157  -0.239241      0.111345    0.785557    0.120151 -0.561942   \n",
       "4   -0.345105  -0.239241      0.111345    0.785557    0.120151 -0.561942   \n",
       "\n",
       "   ring-type  spore-print-color   habitat    season  \n",
       "0  -0.294854          -0.202999 -0.535818 -0.954002  \n",
       "1   4.511319          -0.202999 -0.535818  1.762755  \n",
       "2  -0.294854          -0.202999  2.118464  1.762755  \n",
       "3  -0.294854          -0.202999 -0.535818  0.857169  \n",
       "4  -0.294854          -0.202999  0.429376 -0.954002  \n",
       "\n",
       "[5 rows x 21 columns]"
      ]
     },
     "execution_count": 24,
     "metadata": {},
     "output_type": "execute_result"
    }
   ],
   "source": [
    "train.head()"
   ]
  },
  {
   "cell_type": "markdown",
   "id": "e8500eb1",
   "metadata": {
    "papermill": {
     "duration": 0.018399,
     "end_time": "2024-08-27T16:32:32.963573",
     "exception": false,
     "start_time": "2024-08-27T16:32:32.945174",
     "status": "completed"
    },
    "tags": []
   },
   "source": [
    "# Splitting data"
   ]
  },
  {
   "cell_type": "code",
   "execution_count": 25,
   "id": "f7f10aee",
   "metadata": {
    "execution": {
     "iopub.execute_input": "2024-08-27T16:32:33.003379Z",
     "iopub.status.busy": "2024-08-27T16:32:33.002469Z",
     "iopub.status.idle": "2024-08-27T16:32:33.240725Z",
     "shell.execute_reply": "2024-08-27T16:32:33.239752Z"
    },
    "papermill": {
     "duration": 0.260549,
     "end_time": "2024-08-27T16:32:33.242972",
     "exception": false,
     "start_time": "2024-08-27T16:32:32.982423",
     "status": "completed"
    },
    "tags": []
   },
   "outputs": [
    {
     "name": "stdout",
     "output_type": "stream",
     "text": [
      "3116945 3116945\n"
     ]
    }
   ],
   "source": [
    "X=train.drop(columns=[\"class\",\"id\"])\n",
    "y=train[\"class\"]\n",
    "\n",
    "print(len(X),len(y))"
   ]
  },
  {
   "cell_type": "code",
   "execution_count": 26,
   "id": "c0512882",
   "metadata": {
    "execution": {
     "iopub.execute_input": "2024-08-27T16:32:33.332918Z",
     "iopub.status.busy": "2024-08-27T16:32:33.331962Z",
     "iopub.status.idle": "2024-08-27T16:32:34.548642Z",
     "shell.execute_reply": "2024-08-27T16:32:34.547611Z"
    },
    "papermill": {
     "duration": 1.288829,
     "end_time": "2024-08-27T16:32:34.550883",
     "exception": false,
     "start_time": "2024-08-27T16:32:33.262054",
     "status": "completed"
    },
    "tags": []
   },
   "outputs": [
    {
     "name": "stdout",
     "output_type": "stream",
     "text": [
      "(2493556, 19) (623389, 19)\n"
     ]
    }
   ],
   "source": [
    "X_train,X_val,y_train,y_val=train_test_split(X,y,test_size=.2,random_state=42)\n",
    "print(X_train.shape,X_val.shape)"
   ]
  },
  {
   "cell_type": "code",
   "execution_count": 27,
   "id": "b1429b96",
   "metadata": {
    "execution": {
     "iopub.execute_input": "2024-08-27T16:32:34.591412Z",
     "iopub.status.busy": "2024-08-27T16:32:34.590552Z",
     "iopub.status.idle": "2024-08-27T16:32:34.612392Z",
     "shell.execute_reply": "2024-08-27T16:32:34.611510Z"
    },
    "papermill": {
     "duration": 0.044703,
     "end_time": "2024-08-27T16:32:34.614633",
     "exception": false,
     "start_time": "2024-08-27T16:32:34.569930",
     "status": "completed"
    },
    "tags": []
   },
   "outputs": [
    {
     "data": {
      "text/html": [
       "<div>\n",
       "<style scoped>\n",
       "    .dataframe tbody tr th:only-of-type {\n",
       "        vertical-align: middle;\n",
       "    }\n",
       "\n",
       "    .dataframe tbody tr th {\n",
       "        vertical-align: top;\n",
       "    }\n",
       "\n",
       "    .dataframe thead th {\n",
       "        text-align: right;\n",
       "    }\n",
       "</style>\n",
       "<table border=\"1\" class=\"dataframe\">\n",
       "  <thead>\n",
       "    <tr style=\"text-align: right;\">\n",
       "      <th></th>\n",
       "      <th>cap-diameter</th>\n",
       "      <th>cap-shape</th>\n",
       "      <th>cap-surface</th>\n",
       "      <th>cap-color</th>\n",
       "      <th>does-bruise-or-bleed</th>\n",
       "      <th>gill-attachment</th>\n",
       "      <th>gill-spacing</th>\n",
       "      <th>gill-color</th>\n",
       "      <th>stem-height</th>\n",
       "      <th>stem-width</th>\n",
       "      <th>stem-root</th>\n",
       "      <th>stem-surface</th>\n",
       "      <th>stem-color</th>\n",
       "      <th>veil-color</th>\n",
       "      <th>has-ring</th>\n",
       "      <th>ring-type</th>\n",
       "      <th>spore-print-color</th>\n",
       "      <th>habitat</th>\n",
       "      <th>season</th>\n",
       "    </tr>\n",
       "  </thead>\n",
       "  <tbody>\n",
       "    <tr>\n",
       "      <th>1252551</th>\n",
       "      <td>-0.800751</td>\n",
       "      <td>0.436885</td>\n",
       "      <td>0.978573</td>\n",
       "      <td>-0.313092</td>\n",
       "      <td>2.167183</td>\n",
       "      <td>-0.576997</td>\n",
       "      <td>-0.422058</td>\n",
       "      <td>-0.562029</td>\n",
       "      <td>-1.288389</td>\n",
       "      <td>-0.674918</td>\n",
       "      <td>-0.239241</td>\n",
       "      <td>0.111345</td>\n",
       "      <td>-0.705853</td>\n",
       "      <td>0.120151</td>\n",
       "      <td>-0.561942</td>\n",
       "      <td>-0.294854</td>\n",
       "      <td>-0.202999</td>\n",
       "      <td>-0.535818</td>\n",
       "      <td>-0.954002</td>\n",
       "    </tr>\n",
       "    <tr>\n",
       "      <th>1799166</th>\n",
       "      <td>-0.961767</td>\n",
       "      <td>-1.663910</td>\n",
       "      <td>-1.247888</td>\n",
       "      <td>-0.162778</td>\n",
       "      <td>-0.461411</td>\n",
       "      <td>-0.834809</td>\n",
       "      <td>-0.422058</td>\n",
       "      <td>-0.562029</td>\n",
       "      <td>-0.366083</td>\n",
       "      <td>-1.044260</td>\n",
       "      <td>-0.239241</td>\n",
       "      <td>0.111345</td>\n",
       "      <td>-0.705853</td>\n",
       "      <td>0.120151</td>\n",
       "      <td>-0.561942</td>\n",
       "      <td>-0.294854</td>\n",
       "      <td>-0.202999</td>\n",
       "      <td>2.359763</td>\n",
       "      <td>-0.954002</td>\n",
       "    </tr>\n",
       "    <tr>\n",
       "      <th>1936146</th>\n",
       "      <td>-0.233976</td>\n",
       "      <td>0.879158</td>\n",
       "      <td>-0.876811</td>\n",
       "      <td>-0.162778</td>\n",
       "      <td>-0.461411</td>\n",
       "      <td>-0.147310</td>\n",
       "      <td>-0.422058</td>\n",
       "      <td>1.119992</td>\n",
       "      <td>0.359909</td>\n",
       "      <td>-0.462454</td>\n",
       "      <td>-0.239241</td>\n",
       "      <td>0.111345</td>\n",
       "      <td>-1.202990</td>\n",
       "      <td>0.120151</td>\n",
       "      <td>-0.561942</td>\n",
       "      <td>-0.294854</td>\n",
       "      <td>-0.202999</td>\n",
       "      <td>2.359763</td>\n",
       "      <td>-0.954002</td>\n",
       "    </tr>\n",
       "    <tr>\n",
       "      <th>1464811</th>\n",
       "      <td>-0.384257</td>\n",
       "      <td>-1.111069</td>\n",
       "      <td>0.700265</td>\n",
       "      <td>1.640988</td>\n",
       "      <td>-0.461411</td>\n",
       "      <td>1.399564</td>\n",
       "      <td>1.611687</td>\n",
       "      <td>1.119992</td>\n",
       "      <td>-0.184585</td>\n",
       "      <td>0.195938</td>\n",
       "      <td>-0.239241</td>\n",
       "      <td>-1.969106</td>\n",
       "      <td>1.116982</td>\n",
       "      <td>0.120151</td>\n",
       "      <td>-0.561942</td>\n",
       "      <td>-0.294854</td>\n",
       "      <td>-0.202999</td>\n",
       "      <td>-0.535818</td>\n",
       "      <td>-0.954002</td>\n",
       "    </tr>\n",
       "    <tr>\n",
       "      <th>767639</th>\n",
       "      <td>-0.027876</td>\n",
       "      <td>-1.111069</td>\n",
       "      <td>0.700265</td>\n",
       "      <td>-0.313092</td>\n",
       "      <td>-0.461411</td>\n",
       "      <td>-0.576997</td>\n",
       "      <td>-0.422058</td>\n",
       "      <td>1.119992</td>\n",
       "      <td>-0.006791</td>\n",
       "      <td>-0.106700</td>\n",
       "      <td>-0.239241</td>\n",
       "      <td>0.111345</td>\n",
       "      <td>-0.705853</td>\n",
       "      <td>0.120151</td>\n",
       "      <td>-0.561942</td>\n",
       "      <td>-0.294854</td>\n",
       "      <td>-0.202999</td>\n",
       "      <td>2.118464</td>\n",
       "      <td>1.762755</td>\n",
       "    </tr>\n",
       "  </tbody>\n",
       "</table>\n",
       "</div>"
      ],
      "text/plain": [
       "         cap-diameter  cap-shape  cap-surface  cap-color  \\\n",
       "1252551     -0.800751   0.436885     0.978573  -0.313092   \n",
       "1799166     -0.961767  -1.663910    -1.247888  -0.162778   \n",
       "1936146     -0.233976   0.879158    -0.876811  -0.162778   \n",
       "1464811     -0.384257  -1.111069     0.700265   1.640988   \n",
       "767639      -0.027876  -1.111069     0.700265  -0.313092   \n",
       "\n",
       "         does-bruise-or-bleed  gill-attachment  gill-spacing  gill-color  \\\n",
       "1252551              2.167183        -0.576997     -0.422058   -0.562029   \n",
       "1799166             -0.461411        -0.834809     -0.422058   -0.562029   \n",
       "1936146             -0.461411        -0.147310     -0.422058    1.119992   \n",
       "1464811             -0.461411         1.399564      1.611687    1.119992   \n",
       "767639              -0.461411        -0.576997     -0.422058    1.119992   \n",
       "\n",
       "         stem-height  stem-width  stem-root  stem-surface  stem-color  \\\n",
       "1252551    -1.288389   -0.674918  -0.239241      0.111345   -0.705853   \n",
       "1799166    -0.366083   -1.044260  -0.239241      0.111345   -0.705853   \n",
       "1936146     0.359909   -0.462454  -0.239241      0.111345   -1.202990   \n",
       "1464811    -0.184585    0.195938  -0.239241     -1.969106    1.116982   \n",
       "767639     -0.006791   -0.106700  -0.239241      0.111345   -0.705853   \n",
       "\n",
       "         veil-color  has-ring  ring-type  spore-print-color   habitat  \\\n",
       "1252551    0.120151 -0.561942  -0.294854          -0.202999 -0.535818   \n",
       "1799166    0.120151 -0.561942  -0.294854          -0.202999  2.359763   \n",
       "1936146    0.120151 -0.561942  -0.294854          -0.202999  2.359763   \n",
       "1464811    0.120151 -0.561942  -0.294854          -0.202999 -0.535818   \n",
       "767639     0.120151 -0.561942  -0.294854          -0.202999  2.118464   \n",
       "\n",
       "           season  \n",
       "1252551 -0.954002  \n",
       "1799166 -0.954002  \n",
       "1936146 -0.954002  \n",
       "1464811 -0.954002  \n",
       "767639   1.762755  "
      ]
     },
     "execution_count": 27,
     "metadata": {},
     "output_type": "execute_result"
    }
   ],
   "source": [
    "X_train.head()"
   ]
  },
  {
   "cell_type": "markdown",
   "id": "2f498443",
   "metadata": {
    "papermill": {
     "duration": 0.0201,
     "end_time": "2024-08-27T16:32:34.655335",
     "exception": false,
     "start_time": "2024-08-27T16:32:34.635235",
     "status": "completed"
    },
    "tags": []
   },
   "source": [
    "# class imbalance and class weights"
   ]
  },
  {
   "cell_type": "code",
   "execution_count": 28,
   "id": "590ba6a3",
   "metadata": {
    "execution": {
     "iopub.execute_input": "2024-08-27T16:32:34.696378Z",
     "iopub.status.busy": "2024-08-27T16:32:34.695999Z",
     "iopub.status.idle": "2024-08-27T16:32:35.113756Z",
     "shell.execute_reply": "2024-08-27T16:32:35.112707Z"
    },
    "papermill": {
     "duration": 0.440986,
     "end_time": "2024-08-27T16:32:35.115998",
     "exception": false,
     "start_time": "2024-08-27T16:32:34.675012",
     "status": "completed"
    },
    "tags": []
   },
   "outputs": [
    {
     "data": {
      "image/png": "[encoded data removed]",
      "text/plain": [
       "<Figure size 640x480 with 1 Axes>"
      ]
     },
     "metadata": {},
     "output_type": "display_data"
    }
   ],
   "source": [
    "sns.countplot(x=y_train)\n",
    "plt.xlabel('Classes')\n",
    "plt.ylabel('Count')\n",
    "plt.title('Distribution of Classes in y_train')\n",
    "plt.show()"
   ]
  },
  {
   "cell_type": "code",
   "execution_count": 29,
   "id": "088227e8",
   "metadata": {
    "execution": {
     "iopub.execute_input": "2024-08-27T16:32:35.157774Z",
     "iopub.status.busy": "2024-08-27T16:32:35.157363Z",
     "iopub.status.idle": "2024-08-27T16:32:35.550971Z",
     "shell.execute_reply": "2024-08-27T16:32:35.549903Z"
    },
    "papermill": {
     "duration": 0.417169,
     "end_time": "2024-08-27T16:32:35.553260",
     "exception": false,
     "start_time": "2024-08-27T16:32:35.136091",
     "status": "completed"
    },
    "tags": []
   },
   "outputs": [
    {
     "data": {
      "text/plain": [
       "{0: 1.1041719803888228, 1: 0.913789464117666}"
      ]
     },
     "execution_count": 29,
     "metadata": {},
     "output_type": "execute_result"
    }
   ],
   "source": [
    "from sklearn.utils import class_weight\n",
    "\n",
    "class_weights = class_weight.compute_class_weight('balanced', classes=np.unique(y_train), y=y_train)\n",
    "class_weights_arr=np.array(class_weights)\n",
    "class_weights_dict = dict(enumerate(class_weights))\n",
    "\n",
    "class_weights_dict"
   ]
  },
  {
   "cell_type": "markdown",
   "id": "8cba4ea4",
   "metadata": {
    "papermill": {
     "duration": 0.021016,
     "end_time": "2024-08-27T16:32:35.595117",
     "exception": false,
     "start_time": "2024-08-27T16:32:35.574101",
     "status": "completed"
    },
    "tags": []
   },
   "source": [
    "# Model"
   ]
  },
  {
   "cell_type": "code",
   "execution_count": 30,
   "id": "c353192f",
   "metadata": {
    "execution": {
     "iopub.execute_input": "2024-08-27T16:32:35.636950Z",
     "iopub.status.busy": "2024-08-27T16:32:35.636550Z",
     "iopub.status.idle": "2024-08-27T16:32:35.641378Z",
     "shell.execute_reply": "2024-08-27T16:32:35.640438Z"
    },
    "papermill": {
     "duration": 0.027951,
     "end_time": "2024-08-27T16:32:35.643348",
     "exception": false,
     "start_time": "2024-08-27T16:32:35.615397",
     "status": "completed"
    },
    "tags": []
   },
   "outputs": [],
   "source": [
    "# XGBClassifier\n",
    "from xgboost import XGBClassifier\n",
    "from sklearn.metrics import confusion_matrix\n",
    "from sklearn.metrics import classification_report\n",
    "from sklearn.metrics import accuracy_score"
   ]
  },
  {
   "cell_type": "markdown",
   "id": "4b938cd5",
   "metadata": {
    "papermill": {
     "duration": 0.019739,
     "end_time": "2024-08-27T16:32:35.683031",
     "exception": false,
     "start_time": "2024-08-27T16:32:35.663292",
     "status": "completed"
    },
    "tags": []
   },
   "source": [
    "## XGB"
   ]
  },
  {
   "cell_type": "code",
   "execution_count": 31,
   "id": "246a8bea",
   "metadata": {
    "execution": {
     "iopub.execute_input": "2024-08-27T16:32:35.726538Z",
     "iopub.status.busy": "2024-08-27T16:32:35.725611Z",
     "iopub.status.idle": "2024-08-27T16:32:35.731417Z",
     "shell.execute_reply": "2024-08-27T16:32:35.730456Z"
    },
    "papermill": {
     "duration": 0.029311,
     "end_time": "2024-08-27T16:32:35.733407",
     "exception": false,
     "start_time": "2024-08-27T16:32:35.704096",
     "status": "completed"
    },
    "tags": []
   },
   "outputs": [],
   "source": [
    "xgb_params={'n_estimators': 432,\n",
    "            'max_depth': 18, \n",
    "            'learning_rate': 0.019177494166556952, \n",
    "            'subsample': 0.6944494028059239, \n",
    "            'colsample_bytree': 0.5177980824894136, \n",
    "            'gamma': 0.0004342336537981622, \n",
    "            'lambda': 1.3527652792856453e-06, \n",
    "            'alpha': 4.10797226500692e-08, \n",
    "#             'scale_pos_weight': 1.0121323580230017\n",
    "            'scale_pos_weight':class_weights_dict[1]/class_weights_dict[0]\n",
    "            \n",
    "           }"
   ]
  },
  {
   "cell_type": "code",
   "execution_count": 32,
   "id": "9298d697",
   "metadata": {
    "execution": {
     "iopub.execute_input": "2024-08-27T16:32:35.775763Z",
     "iopub.status.busy": "2024-08-27T16:32:35.775257Z",
     "iopub.status.idle": "2024-08-27T16:36:45.868063Z",
     "shell.execute_reply": "2024-08-27T16:36:45.866710Z"
    },
    "papermill": {
     "duration": 250.116782,
     "end_time": "2024-08-27T16:36:45.870550",
     "exception": false,
     "start_time": "2024-08-27T16:32:35.753768",
     "status": "completed"
    },
    "tags": []
   },
   "outputs": [
    {
     "name": "stdout",
     "output_type": "stream",
     "text": [
      "[[280266   2131]\n",
      " [  3019 337973]]\n",
      "              precision    recall  f1-score   support\n",
      "\n",
      "           0       0.99      0.99      0.99    282397\n",
      "           1       0.99      0.99      0.99    340992\n",
      "\n",
      "    accuracy                           0.99    623389\n",
      "   macro avg       0.99      0.99      0.99    623389\n",
      "weighted avg       0.99      0.99      0.99    623389\n",
      "\n",
      "xgb accuracy for val: 0.991739\n"
     ]
    }
   ],
   "source": [
    "# model_xgb = XGBClassifier(booster='gbtree', learning_rate=0.1, max_depth=12, n_estimators=100,class_weight=class_weights_dict, n_jobs=-1)\n",
    "model_xgb = XGBClassifier(**xgb_params)\n",
    "\n",
    "model_xgb.fit(X_train, y_train)\n",
    "\n",
    "xgb_pred = model_xgb.predict_proba(X_val)[:, 1] \n",
    "xgb_label = np.where(xgb_pred > 0.5, 1, 0) \n",
    "\n",
    "print(confusion_matrix(y_val, xgb_label)) \n",
    "print(classification_report(y_val, xgb_label))\n",
    "print('xgb accuracy for val: {0:.6f}'.format(accuracy_score(y_val, xgb_label)))  #0.991182"
   ]
  },
  {
   "cell_type": "markdown",
   "id": "ddb1db99",
   "metadata": {
    "papermill": {
     "duration": 0.019673,
     "end_time": "2024-08-27T16:36:45.911975",
     "exception": false,
     "start_time": "2024-08-27T16:36:45.892302",
     "status": "completed"
    },
    "tags": []
   },
   "source": [
    "## LGBM"
   ]
  },
  {
   "cell_type": "code",
   "execution_count": 33,
   "id": "095b6152",
   "metadata": {
    "execution": {
     "iopub.execute_input": "2024-08-27T16:36:45.953886Z",
     "iopub.status.busy": "2024-08-27T16:36:45.953465Z",
     "iopub.status.idle": "2024-08-27T16:36:45.959627Z",
     "shell.execute_reply": "2024-08-27T16:36:45.958682Z"
    },
    "papermill": {
     "duration": 0.029791,
     "end_time": "2024-08-27T16:36:45.961652",
     "exception": false,
     "start_time": "2024-08-27T16:36:45.931861",
     "status": "completed"
    },
    "tags": []
   },
   "outputs": [],
   "source": [
    "lgbm_params={'num_leaves': 989,\n",
    "             'metric':'auc',\n",
    "             'learning_rate': 0.01150197154409214, \n",
    "             'feature_fraction': 0.6153388926958593, \n",
    "             'bagging_fraction' :0.830726975975083, \n",
    "             'bagging_freq': 7, \n",
    "             'lambda_l1': 9.285703159386265e-05,\n",
    "             'lambda_l2': 3.5283439660576336e-08,\n",
    "             'max_depth': 19,\n",
    "             'max_bin': 60481,\n",
    "             'n_estimators': 2026,\n",
    "             'verbose': -1,\n",
    "             'scale_pos_weight':class_weights_dict[1]/class_weights_dict[0]\n",
    "\n",
    "            }"
   ]
  },
  {
   "cell_type": "code",
   "execution_count": 34,
   "id": "c501237c",
   "metadata": {
    "execution": {
     "iopub.execute_input": "2024-08-27T16:36:46.003962Z",
     "iopub.status.busy": "2024-08-27T16:36:46.003134Z",
     "iopub.status.idle": "2024-08-27T17:03:17.057799Z",
     "shell.execute_reply": "2024-08-27T17:03:17.056664Z"
    },
    "papermill": {
     "duration": 1591.078257,
     "end_time": "2024-08-27T17:03:17.060241",
     "exception": false,
     "start_time": "2024-08-27T16:36:45.981984",
     "status": "completed"
    },
    "tags": []
   },
   "outputs": [
    {
     "name": "stdout",
     "output_type": "stream",
     "text": [
      "[[280229   2168]\n",
      " [  3001 337991]]\n",
      "              precision    recall  f1-score   support\n",
      "\n",
      "           0       0.99      0.99      0.99    282397\n",
      "           1       0.99      0.99      0.99    340992\n",
      "\n",
      "    accuracy                           0.99    623389\n",
      "   macro avg       0.99      0.99      0.99    623389\n",
      "weighted avg       0.99      0.99      0.99    623389\n",
      "\n",
      "lgbm accuracy for val: 0.991708\n"
     ]
    }
   ],
   "source": [
    "# model_lgbm = LGBMClassifier(random_state=1, verbose=-1, num_leaves=127, learning_rate=0.1, class_weight=class_weights_dict,n_estimators=800)\n",
    "model_lgbm=LGBMClassifier(**lgbm_params)\n",
    "model_lgbm.fit(X_train, y_train)\n",
    "\n",
    "lgbm_pred = model_lgbm.predict_proba(X_val)[:, 1] \n",
    "lgbm_label = np.where(lgbm_pred > 0.5, 1, 0) \n",
    "\n",
    "print(confusion_matrix(y_val, lgbm_label)) \n",
    "print(classification_report(y_val, lgbm_label))\n",
    "print('lgbm accuracy for val: {0:.6f}'.format(accuracy_score(y_val, lgbm_label)))\n",
    "\n"
   ]
  },
  {
   "cell_type": "markdown",
   "id": "b5f8e4a4",
   "metadata": {
    "papermill": {
     "duration": 0.020086,
     "end_time": "2024-08-27T17:03:17.102483",
     "exception": false,
     "start_time": "2024-08-27T17:03:17.082397",
     "status": "completed"
    },
    "tags": []
   },
   "source": [
    "## Cat"
   ]
  },
  {
   "cell_type": "code",
   "execution_count": 35,
   "id": "2147fefb",
   "metadata": {
    "execution": {
     "iopub.execute_input": "2024-08-27T17:03:17.145101Z",
     "iopub.status.busy": "2024-08-27T17:03:17.144705Z",
     "iopub.status.idle": "2024-08-27T17:03:17.150363Z",
     "shell.execute_reply": "2024-08-27T17:03:17.149408Z"
    },
    "papermill": {
     "duration": 0.029648,
     "end_time": "2024-08-27T17:03:17.152340",
     "exception": false,
     "start_time": "2024-08-27T17:03:17.122692",
     "status": "completed"
    },
    "tags": []
   },
   "outputs": [],
   "source": [
    "catb_params = {\n",
    "    \"n_estimators\": 10000,\n",
    "    \"learning_rate\": 0.02,\n",
    "    'task_type': 'GPU', \n",
    "    'random_strength': 1,\n",
    "    'max_bin': 255, \n",
    "    'depth': 10,\n",
    "    'l2_leaf_reg': 5,\n",
    "    'grow_policy': 'SymmetricTree',\n",
    "    'boosting_type': 'Plain',\n",
    "    'bootstrap_type': 'Bernoulli',\n",
    "    'subsample': 0.8,\n",
    "    'od_type': 'Iter',\n",
    "    'od_wait': 100 ,\n",
    "    'verbose': False  \n",
    "}\n"
   ]
  },
  {
   "cell_type": "code",
   "execution_count": 36,
   "id": "3b2ba05b",
   "metadata": {
    "execution": {
     "iopub.execute_input": "2024-08-27T17:03:17.194662Z",
     "iopub.status.busy": "2024-08-27T17:03:17.194258Z",
     "iopub.status.idle": "2024-08-27T17:10:42.959790Z",
     "shell.execute_reply": "2024-08-27T17:10:42.958694Z"
    },
    "papermill": {
     "duration": 445.789069,
     "end_time": "2024-08-27T17:10:42.961869",
     "exception": false,
     "start_time": "2024-08-27T17:03:17.172800",
     "status": "completed"
    },
    "tags": []
   },
   "outputs": [
    {
     "name": "stdout",
     "output_type": "stream",
     "text": [
      "[[280075   2322]\n",
      " [  3000 337992]]\n",
      "              precision    recall  f1-score   support\n",
      "\n",
      "           0       0.99      0.99      0.99    282397\n",
      "           1       0.99      0.99      0.99    340992\n",
      "\n",
      "    accuracy                           0.99    623389\n",
      "   macro avg       0.99      0.99      0.99    623389\n",
      "weighted avg       0.99      0.99      0.99    623389\n",
      "\n",
      "cat accuracy for val: 0.991463\n"
     ]
    }
   ],
   "source": [
    "# CatBoostClassifier\n",
    "from catboost import CatBoostClassifier\n",
    "\n",
    "# model_cat = CatBoostClassifier(random_state=1, verbose=0, depth=10, iterations=1000, class_weights=class_weights_dict,learning_rate=0.1)\n",
    "model_cat=CatBoostClassifier(**catb_params)\n",
    "model_cat.fit(X_train, y_train)\n",
    "\n",
    "cat_pred = model_cat.predict_proba(X_val)[:, 1] \n",
    "cat_label = np.where(cat_pred > 0.5, 1, 0) \n",
    "\n",
    "print(confusion_matrix(y_val, cat_label)) \n",
    "print(classification_report(y_val, cat_label))\n",
    "print('cat accuracy for val: {0:.6f}'.format(accuracy_score(y_val, cat_label)))\n",
    "\n"
   ]
  },
  {
   "cell_type": "markdown",
   "id": "9a67ffda",
   "metadata": {
    "papermill": {
     "duration": 0.01982,
     "end_time": "2024-08-27T17:10:43.001902",
     "exception": false,
     "start_time": "2024-08-27T17:10:42.982082",
     "status": "completed"
    },
    "tags": []
   },
   "source": [
    "# Voting classifier"
   ]
  },
  {
   "cell_type": "code",
   "execution_count": 37,
   "id": "5a90df01",
   "metadata": {
    "execution": {
     "iopub.execute_input": "2024-08-27T17:10:43.043682Z",
     "iopub.status.busy": "2024-08-27T17:10:43.043301Z",
     "iopub.status.idle": "2024-08-27T17:41:54.716161Z",
     "shell.execute_reply": "2024-08-27T17:41:54.715097Z"
    },
    "papermill": {
     "duration": 1871.718321,
     "end_time": "2024-08-27T17:41:54.740195",
     "exception": false,
     "start_time": "2024-08-27T17:10:43.021874",
     "status": "completed"
    },
    "tags": []
   },
   "outputs": [
    {
     "data": {
      "text/html": [
       "<style>#sk-container-id-1 {color: black;background-color: white;}#sk-container-id-1 pre{padding: 0;}#sk-container-id-1 div.sk-toggleable {background-color: white;}#sk-container-id-1 label.sk-toggleable__label {cursor: pointer;display: block;width: 100%;margin-bottom: 0;padding: 0.3em;box-sizing: border-box;text-align: center;}#sk-container-id-1 label.sk-toggleable__label-arrow:before {content: \"▸\";float: left;margin-right: 0.25em;color: #696969;}#sk-container-id-1 label.sk-toggleable__label-arrow:hover:before {color: black;}#sk-container-id-1 div.sk-estimator:hover label.sk-toggleable__label-arrow:before {color: black;}#sk-container-id-1 div.sk-toggleable__content {max-height: 0;max-width: 0;overflow: hidden;text-align: left;background-color: #f0f8ff;}#sk-container-id-1 div.sk-toggleable__content pre {margin: 0.2em;color: black;border-radius: 0.25em;background-color: #f0f8ff;}#sk-container-id-1 input.sk-toggleable__control:checked~div.sk-toggleable__content {max-height: 200px;max-width: 100%;overflow: auto;}#sk-container-id-1 input.sk-toggleable__control:checked~label.sk-toggleable__label-arrow:before {content: \"▾\";}#sk-container-id-1 div.sk-estimator input.sk-toggleable__control:checked~label.sk-toggleable__label {background-color: #d4ebff;}#sk-container-id-1 div.sk-label input.sk-toggleable__control:checked~label.sk-toggleable__label {background-color: #d4ebff;}#sk-container-id-1 input.sk-hidden--visually {border: 0;clip: rect(1px 1px 1px 1px);clip: rect(1px, 1px, 1px, 1px);height: 1px;margin: -1px;overflow: hidden;padding: 0;position: absolute;width: 1px;}#sk-container-id-1 div.sk-estimator {font-family: monospace;background-color: #f0f8ff;border: 1px dotted black;border-radius: 0.25em;box-sizing: border-box;margin-bottom: 0.5em;}#sk-container-id-1 div.sk-estimator:hover {background-color: #d4ebff;}#sk-container-id-1 div.sk-parallel-item::after {content: \"\";width: 100%;border-bottom: 1px solid gray;flex-grow: 1;}#sk-container-id-1 div.sk-label:hover label.sk-toggleable__label {background-color: #d4ebff;}#sk-container-id-1 div.sk-serial::before {content: \"\";position: absolute;border-left: 1px solid gray;box-sizing: border-box;top: 0;bottom: 0;left: 50%;z-index: 0;}#sk-container-id-1 div.sk-serial {display: flex;flex-direction: column;align-items: center;background-color: white;padding-right: 0.2em;padding-left: 0.2em;position: relative;}#sk-container-id-1 div.sk-item {position: relative;z-index: 1;}#sk-container-id-1 div.sk-parallel {display: flex;align-items: stretch;justify-content: center;background-color: white;position: relative;}#sk-container-id-1 div.sk-item::before, #sk-container-id-1 div.sk-parallel-item::before {content: \"\";position: absolute;border-left: 1px solid gray;box-sizing: border-box;top: 0;bottom: 0;left: 50%;z-index: -1;}#sk-container-id-1 div.sk-parallel-item {display: flex;flex-direction: column;z-index: 1;position: relative;background-color: white;}#sk-container-id-1 div.sk-parallel-item:first-child::after {align-self: flex-end;width: 50%;}#sk-container-id-1 div.sk-parallel-item:last-child::after {align-self: flex-start;width: 50%;}#sk-container-id-1 div.sk-parallel-item:only-child::after {width: 0;}#sk-container-id-1 div.sk-dashed-wrapped {border: 1px dashed gray;margin: 0 0.4em 0.5em 0.4em;box-sizing: border-box;padding-bottom: 0.4em;background-color: white;}#sk-container-id-1 div.sk-label label {font-family: monospace;font-weight: bold;display: inline-block;line-height: 1.2em;}#sk-container-id-1 div.sk-label-container {text-align: center;}#sk-container-id-1 div.sk-container {/* jupyter's `normalize.less` sets `[hidden] { display: none; }` but bootstrap.min.css set `[hidden] { display: none !important; }` so we also need the `!important` here to be able to override the default hidden behavior on the sphinx rendered scikit-learn.org. See: https://github.com/scikit-learn/scikit-learn/issues/21755 */display: inline-block !important;position: relative;}#sk-container-id-1 div.sk-text-repr-fallback {display: none;}</style><div id=\"sk-container-id-1\" class=\"sk-top-container\"><div class=\"sk-text-repr-fallback\"><pre>VotingClassifier(estimators=[(&#x27;xgb&#x27;,\n",
       "                              XGBClassifier(alpha=4.10797226500692e-08,\n",
       "                                            base_score=None, booster=None,\n",
       "                                            callbacks=None,\n",
       "                                            colsample_bylevel=None,\n",
       "                                            colsample_bynode=None,\n",
       "                                            colsample_bytree=0.5177980824894136,\n",
       "                                            device=None,\n",
       "                                            early_stopping_rounds=None,\n",
       "                                            enable_categorical=False,\n",
       "                                            eval_metric=None,\n",
       "                                            feature_types=None,\n",
       "                                            gamma=0.0004342336537981622,\n",
       "                                            grow_policy=None,\n",
       "                                            imp...\n",
       "                                             bagging_freq=7,\n",
       "                                             feature_fraction=0.6153388926958593,\n",
       "                                             lambda_l1=9.285703159386265e-05,\n",
       "                                             lambda_l2=3.5283439660576336e-08,\n",
       "                                             learning_rate=0.01150197154409214,\n",
       "                                             max_bin=60481, max_depth=19,\n",
       "                                             metric=&#x27;auc&#x27;, n_estimators=2026,\n",
       "                                             num_leaves=989,\n",
       "                                             scale_pos_weight=0.8275789282353321,\n",
       "                                             verbose=-1)),\n",
       "                             (&#x27;cat&#x27;,\n",
       "                              &lt;catboost.core.CatBoostClassifier object at 0x7a6b6202dc90&gt;)],\n",
       "                 voting=&#x27;soft&#x27;)</pre><b>In a Jupyter environment, please rerun this cell to show the HTML representation or trust the notebook. <br />On GitHub, the HTML representation is unable to render, please try loading this page with nbviewer.org.</b></div><div class=\"sk-container\" hidden><div class=\"sk-item sk-dashed-wrapped\"><div class=\"sk-label-container\"><div class=\"sk-label sk-toggleable\"><input class=\"sk-toggleable__control sk-hidden--visually\" id=\"sk-estimator-id-1\" type=\"checkbox\" ><label for=\"sk-estimator-id-1\" class=\"sk-toggleable__label sk-toggleable__label-arrow\">VotingClassifier</label><div class=\"sk-toggleable__content\"><pre>VotingClassifier(estimators=[(&#x27;xgb&#x27;,\n",
       "                              XGBClassifier(alpha=4.10797226500692e-08,\n",
       "                                            base_score=None, booster=None,\n",
       "                                            callbacks=None,\n",
       "                                            colsample_bylevel=None,\n",
       "                                            colsample_bynode=None,\n",
       "                                            colsample_bytree=0.5177980824894136,\n",
       "                                            device=None,\n",
       "                                            early_stopping_rounds=None,\n",
       "                                            enable_categorical=False,\n",
       "                                            eval_metric=None,\n",
       "                                            feature_types=None,\n",
       "                                            gamma=0.0004342336537981622,\n",
       "                                            grow_policy=None,\n",
       "                                            imp...\n",
       "                                             bagging_freq=7,\n",
       "                                             feature_fraction=0.6153388926958593,\n",
       "                                             lambda_l1=9.285703159386265e-05,\n",
       "                                             lambda_l2=3.5283439660576336e-08,\n",
       "                                             learning_rate=0.01150197154409214,\n",
       "                                             max_bin=60481, max_depth=19,\n",
       "                                             metric=&#x27;auc&#x27;, n_estimators=2026,\n",
       "                                             num_leaves=989,\n",
       "                                             scale_pos_weight=0.8275789282353321,\n",
       "                                             verbose=-1)),\n",
       "                             (&#x27;cat&#x27;,\n",
       "                              &lt;catboost.core.CatBoostClassifier object at 0x7a6b6202dc90&gt;)],\n",
       "                 voting=&#x27;soft&#x27;)</pre></div></div></div><div class=\"sk-parallel\"><div class=\"sk-parallel-item\"><div class=\"sk-item\"><div class=\"sk-label-container\"><div class=\"sk-label sk-toggleable\"><label>xgb</label></div></div><div class=\"sk-serial\"><div class=\"sk-item\"><div class=\"sk-estimator sk-toggleable\"><input class=\"sk-toggleable__control sk-hidden--visually\" id=\"sk-estimator-id-2\" type=\"checkbox\" ><label for=\"sk-estimator-id-2\" class=\"sk-toggleable__label sk-toggleable__label-arrow\">XGBClassifier</label><div class=\"sk-toggleable__content\"><pre>XGBClassifier(alpha=4.10797226500692e-08, base_score=None, booster=None,\n",
       "              callbacks=None, colsample_bylevel=None, colsample_bynode=None,\n",
       "              colsample_bytree=0.5177980824894136, device=None,\n",
       "              early_stopping_rounds=None, enable_categorical=False,\n",
       "              eval_metric=None, feature_types=None, gamma=0.0004342336537981622,\n",
       "              grow_policy=None, importance_type=None,\n",
       "              interaction_constraints=None, lambda=1.3527652792856453e-06,\n",
       "              learning_rate=0.019177494166556952, max_bin=None,\n",
       "              max_cat_threshold=None, max_cat_to_onehot=None,\n",
       "              max_delta_step=None, max_depth=18, max_leaves=None,\n",
       "              min_child_weight=None, missing=nan, monotone_constraints=None,\n",
       "              multi_strategy=None, n_estimators=432, n_jobs=None, ...)</pre></div></div></div></div></div></div><div class=\"sk-parallel-item\"><div class=\"sk-item\"><div class=\"sk-label-container\"><div class=\"sk-label sk-toggleable\"><label>lgb</label></div></div><div class=\"sk-serial\"><div class=\"sk-item\"><div class=\"sk-estimator sk-toggleable\"><input class=\"sk-toggleable__control sk-hidden--visually\" id=\"sk-estimator-id-3\" type=\"checkbox\" ><label for=\"sk-estimator-id-3\" class=\"sk-toggleable__label sk-toggleable__label-arrow\">LGBMClassifier</label><div class=\"sk-toggleable__content\"><pre>LGBMClassifier(bagging_fraction=0.830726975975083, bagging_freq=7,\n",
       "               feature_fraction=0.6153388926958593,\n",
       "               lambda_l1=9.285703159386265e-05,\n",
       "               lambda_l2=3.5283439660576336e-08,\n",
       "               learning_rate=0.01150197154409214, max_bin=60481, max_depth=19,\n",
       "               metric=&#x27;auc&#x27;, n_estimators=2026, num_leaves=989,\n",
       "               scale_pos_weight=0.8275789282353321, verbose=-1)</pre></div></div></div></div></div></div><div class=\"sk-parallel-item\"><div class=\"sk-item\"><div class=\"sk-label-container\"><div class=\"sk-label sk-toggleable\"><label>cat</label></div></div><div class=\"sk-serial\"><div class=\"sk-item\"><div class=\"sk-estimator sk-toggleable\"><input class=\"sk-toggleable__control sk-hidden--visually\" id=\"sk-estimator-id-4\" type=\"checkbox\" ><label for=\"sk-estimator-id-4\" class=\"sk-toggleable__label sk-toggleable__label-arrow\">CatBoostClassifier</label><div class=\"sk-toggleable__content\"><pre>&lt;catboost.core.CatBoostClassifier object at 0x7a6b6202dc90&gt;</pre></div></div></div></div></div></div></div></div></div></div>"
      ],
      "text/plain": [
       "VotingClassifier(estimators=[('xgb',\n",
       "                              XGBClassifier(alpha=4.10797226500692e-08,\n",
       "                                            base_score=None, booster=None,\n",
       "                                            callbacks=None,\n",
       "                                            colsample_bylevel=None,\n",
       "                                            colsample_bynode=None,\n",
       "                                            colsample_bytree=0.5177980824894136,\n",
       "                                            device=None,\n",
       "                                            early_stopping_rounds=None,\n",
       "                                            enable_categorical=False,\n",
       "                                            eval_metric=None,\n",
       "                                            feature_types=None,\n",
       "                                            gamma=0.0004342336537981622,\n",
       "                                            grow_policy=None,\n",
       "                                            imp...\n",
       "                                             bagging_freq=7,\n",
       "                                             feature_fraction=0.6153388926958593,\n",
       "                                             lambda_l1=9.285703159386265e-05,\n",
       "                                             lambda_l2=3.5283439660576336e-08,\n",
       "                                             learning_rate=0.01150197154409214,\n",
       "                                             max_bin=60481, max_depth=19,\n",
       "                                             metric='auc', n_estimators=2026,\n",
       "                                             num_leaves=989,\n",
       "                                             scale_pos_weight=0.8275789282353321,\n",
       "                                             verbose=-1)),\n",
       "                             ('cat',\n",
       "                              <catboost.core.CatBoostClassifier object at 0x7a6b6202dc90>)],\n",
       "                 voting='soft')"
      ]
     },
     "execution_count": 37,
     "metadata": {},
     "output_type": "execute_result"
    }
   ],
   "source": [
    "from sklearn.ensemble import VotingClassifier\n",
    "\n",
    "voting_model = VotingClassifier(estimators=[\n",
    "    ('xgb', model_xgb),\n",
    "    ('lgb', model_lgbm),\n",
    "    ('cat', model_cat)\n",
    "], voting='soft')\n",
    "\n",
    "voting_model.fit(X_train, y_train)\n"
   ]
  },
  {
   "cell_type": "code",
   "execution_count": 38,
   "id": "5b5dde56",
   "metadata": {
    "execution": {
     "iopub.execute_input": "2024-08-27T17:41:54.784821Z",
     "iopub.status.busy": "2024-08-27T17:41:54.784419Z",
     "iopub.status.idle": "2024-08-27T18:05:57.667739Z",
     "shell.execute_reply": "2024-08-27T18:05:57.666561Z"
    },
    "papermill": {
     "duration": 1442.929667,
     "end_time": "2024-08-27T18:05:57.691518",
     "exception": false,
     "start_time": "2024-08-27T17:41:54.761851",
     "status": "completed"
    },
    "tags": []
   },
   "outputs": [
    {
     "data": {
      "text/html": [
       "<style>#sk-container-id-2 {color: black;background-color: white;}#sk-container-id-2 pre{padding: 0;}#sk-container-id-2 div.sk-toggleable {background-color: white;}#sk-container-id-2 label.sk-toggleable__label {cursor: pointer;display: block;width: 100%;margin-bottom: 0;padding: 0.3em;box-sizing: border-box;text-align: center;}#sk-container-id-2 label.sk-toggleable__label-arrow:before {content: \"▸\";float: left;margin-right: 0.25em;color: #696969;}#sk-container-id-2 label.sk-toggleable__label-arrow:hover:before {color: black;}#sk-container-id-2 div.sk-estimator:hover label.sk-toggleable__label-arrow:before {color: black;}#sk-container-id-2 div.sk-toggleable__content {max-height: 0;max-width: 0;overflow: hidden;text-align: left;background-color: #f0f8ff;}#sk-container-id-2 div.sk-toggleable__content pre {margin: 0.2em;color: black;border-radius: 0.25em;background-color: #f0f8ff;}#sk-container-id-2 input.sk-toggleable__control:checked~div.sk-toggleable__content {max-height: 200px;max-width: 100%;overflow: auto;}#sk-container-id-2 input.sk-toggleable__control:checked~label.sk-toggleable__label-arrow:before {content: \"▾\";}#sk-container-id-2 div.sk-estimator input.sk-toggleable__control:checked~label.sk-toggleable__label {background-color: #d4ebff;}#sk-container-id-2 div.sk-label input.sk-toggleable__control:checked~label.sk-toggleable__label {background-color: #d4ebff;}#sk-container-id-2 input.sk-hidden--visually {border: 0;clip: rect(1px 1px 1px 1px);clip: rect(1px, 1px, 1px, 1px);height: 1px;margin: -1px;overflow: hidden;padding: 0;position: absolute;width: 1px;}#sk-container-id-2 div.sk-estimator {font-family: monospace;background-color: #f0f8ff;border: 1px dotted black;border-radius: 0.25em;box-sizing: border-box;margin-bottom: 0.5em;}#sk-container-id-2 div.sk-estimator:hover {background-color: #d4ebff;}#sk-container-id-2 div.sk-parallel-item::after {content: \"\";width: 100%;border-bottom: 1px solid gray;flex-grow: 1;}#sk-container-id-2 div.sk-label:hover label.sk-toggleable__label {background-color: #d4ebff;}#sk-container-id-2 div.sk-serial::before {content: \"\";position: absolute;border-left: 1px solid gray;box-sizing: border-box;top: 0;bottom: 0;left: 50%;z-index: 0;}#sk-container-id-2 div.sk-serial {display: flex;flex-direction: column;align-items: center;background-color: white;padding-right: 0.2em;padding-left: 0.2em;position: relative;}#sk-container-id-2 div.sk-item {position: relative;z-index: 1;}#sk-container-id-2 div.sk-parallel {display: flex;align-items: stretch;justify-content: center;background-color: white;position: relative;}#sk-container-id-2 div.sk-item::before, #sk-container-id-2 div.sk-parallel-item::before {content: \"\";position: absolute;border-left: 1px solid gray;box-sizing: border-box;top: 0;bottom: 0;left: 50%;z-index: -1;}#sk-container-id-2 div.sk-parallel-item {display: flex;flex-direction: column;z-index: 1;position: relative;background-color: white;}#sk-container-id-2 div.sk-parallel-item:first-child::after {align-self: flex-end;width: 50%;}#sk-container-id-2 div.sk-parallel-item:last-child::after {align-self: flex-start;width: 50%;}#sk-container-id-2 div.sk-parallel-item:only-child::after {width: 0;}#sk-container-id-2 div.sk-dashed-wrapped {border: 1px dashed gray;margin: 0 0.4em 0.5em 0.4em;box-sizing: border-box;padding-bottom: 0.4em;background-color: white;}#sk-container-id-2 div.sk-label label {font-family: monospace;font-weight: bold;display: inline-block;line-height: 1.2em;}#sk-container-id-2 div.sk-label-container {text-align: center;}#sk-container-id-2 div.sk-container {/* jupyter's `normalize.less` sets `[hidden] { display: none; }` but bootstrap.min.css set `[hidden] { display: none !important; }` so we also need the `!important` here to be able to override the default hidden behavior on the sphinx rendered scikit-learn.org. See: https://github.com/scikit-learn/scikit-learn/issues/21755 */display: inline-block !important;position: relative;}#sk-container-id-2 div.sk-text-repr-fallback {display: none;}</style><div id=\"sk-container-id-2\" class=\"sk-top-container\"><div class=\"sk-text-repr-fallback\"><pre>VotingClassifier(estimators=[(&#x27;xgb&#x27;,\n",
       "                              XGBClassifier(alpha=4.10797226500692e-08,\n",
       "                                            base_score=None, booster=None,\n",
       "                                            callbacks=None,\n",
       "                                            colsample_bylevel=None,\n",
       "                                            colsample_bynode=None,\n",
       "                                            colsample_bytree=0.5177980824894136,\n",
       "                                            device=None,\n",
       "                                            early_stopping_rounds=None,\n",
       "                                            enable_categorical=False,\n",
       "                                            eval_metric=None,\n",
       "                                            feature_types=None,\n",
       "                                            gamma=0.0004342336537981622,\n",
       "                                            grow_policy=None,\n",
       "                                            imp...\n",
       "                                            n_estimators=432, n_jobs=None, ...)),\n",
       "                             (&#x27;lgb&#x27;,\n",
       "                              LGBMClassifier(bagging_fraction=0.830726975975083,\n",
       "                                             bagging_freq=7,\n",
       "                                             feature_fraction=0.6153388926958593,\n",
       "                                             lambda_l1=9.285703159386265e-05,\n",
       "                                             lambda_l2=3.5283439660576336e-08,\n",
       "                                             learning_rate=0.01150197154409214,\n",
       "                                             max_bin=60481, max_depth=19,\n",
       "                                             metric=&#x27;auc&#x27;, n_estimators=2026,\n",
       "                                             num_leaves=989,\n",
       "                                             scale_pos_weight=0.8275789282353321,\n",
       "                                             verbose=-1))],\n",
       "                 voting=&#x27;soft&#x27;)</pre><b>In a Jupyter environment, please rerun this cell to show the HTML representation or trust the notebook. <br />On GitHub, the HTML representation is unable to render, please try loading this page with nbviewer.org.</b></div><div class=\"sk-container\" hidden><div class=\"sk-item sk-dashed-wrapped\"><div class=\"sk-label-container\"><div class=\"sk-label sk-toggleable\"><input class=\"sk-toggleable__control sk-hidden--visually\" id=\"sk-estimator-id-5\" type=\"checkbox\" ><label for=\"sk-estimator-id-5\" class=\"sk-toggleable__label sk-toggleable__label-arrow\">VotingClassifier</label><div class=\"sk-toggleable__content\"><pre>VotingClassifier(estimators=[(&#x27;xgb&#x27;,\n",
       "                              XGBClassifier(alpha=4.10797226500692e-08,\n",
       "                                            base_score=None, booster=None,\n",
       "                                            callbacks=None,\n",
       "                                            colsample_bylevel=None,\n",
       "                                            colsample_bynode=None,\n",
       "                                            colsample_bytree=0.5177980824894136,\n",
       "                                            device=None,\n",
       "                                            early_stopping_rounds=None,\n",
       "                                            enable_categorical=False,\n",
       "                                            eval_metric=None,\n",
       "                                            feature_types=None,\n",
       "                                            gamma=0.0004342336537981622,\n",
       "                                            grow_policy=None,\n",
       "                                            imp...\n",
       "                                            n_estimators=432, n_jobs=None, ...)),\n",
       "                             (&#x27;lgb&#x27;,\n",
       "                              LGBMClassifier(bagging_fraction=0.830726975975083,\n",
       "                                             bagging_freq=7,\n",
       "                                             feature_fraction=0.6153388926958593,\n",
       "                                             lambda_l1=9.285703159386265e-05,\n",
       "                                             lambda_l2=3.5283439660576336e-08,\n",
       "                                             learning_rate=0.01150197154409214,\n",
       "                                             max_bin=60481, max_depth=19,\n",
       "                                             metric=&#x27;auc&#x27;, n_estimators=2026,\n",
       "                                             num_leaves=989,\n",
       "                                             scale_pos_weight=0.8275789282353321,\n",
       "                                             verbose=-1))],\n",
       "                 voting=&#x27;soft&#x27;)</pre></div></div></div><div class=\"sk-parallel\"><div class=\"sk-parallel-item\"><div class=\"sk-item\"><div class=\"sk-label-container\"><div class=\"sk-label sk-toggleable\"><label>xgb</label></div></div><div class=\"sk-serial\"><div class=\"sk-item\"><div class=\"sk-estimator sk-toggleable\"><input class=\"sk-toggleable__control sk-hidden--visually\" id=\"sk-estimator-id-6\" type=\"checkbox\" ><label for=\"sk-estimator-id-6\" class=\"sk-toggleable__label sk-toggleable__label-arrow\">XGBClassifier</label><div class=\"sk-toggleable__content\"><pre>XGBClassifier(alpha=4.10797226500692e-08, base_score=None, booster=None,\n",
       "              callbacks=None, colsample_bylevel=None, colsample_bynode=None,\n",
       "              colsample_bytree=0.5177980824894136, device=None,\n",
       "              early_stopping_rounds=None, enable_categorical=False,\n",
       "              eval_metric=None, feature_types=None, gamma=0.0004342336537981622,\n",
       "              grow_policy=None, importance_type=None,\n",
       "              interaction_constraints=None, lambda=1.3527652792856453e-06,\n",
       "              learning_rate=0.019177494166556952, max_bin=None,\n",
       "              max_cat_threshold=None, max_cat_to_onehot=None,\n",
       "              max_delta_step=None, max_depth=18, max_leaves=None,\n",
       "              min_child_weight=None, missing=nan, monotone_constraints=None,\n",
       "              multi_strategy=None, n_estimators=432, n_jobs=None, ...)</pre></div></div></div></div></div></div><div class=\"sk-parallel-item\"><div class=\"sk-item\"><div class=\"sk-label-container\"><div class=\"sk-label sk-toggleable\"><label>lgb</label></div></div><div class=\"sk-serial\"><div class=\"sk-item\"><div class=\"sk-estimator sk-toggleable\"><input class=\"sk-toggleable__control sk-hidden--visually\" id=\"sk-estimator-id-7\" type=\"checkbox\" ><label for=\"sk-estimator-id-7\" class=\"sk-toggleable__label sk-toggleable__label-arrow\">LGBMClassifier</label><div class=\"sk-toggleable__content\"><pre>LGBMClassifier(bagging_fraction=0.830726975975083, bagging_freq=7,\n",
       "               feature_fraction=0.6153388926958593,\n",
       "               lambda_l1=9.285703159386265e-05,\n",
       "               lambda_l2=3.5283439660576336e-08,\n",
       "               learning_rate=0.01150197154409214, max_bin=60481, max_depth=19,\n",
       "               metric=&#x27;auc&#x27;, n_estimators=2026, num_leaves=989,\n",
       "               scale_pos_weight=0.8275789282353321, verbose=-1)</pre></div></div></div></div></div></div></div></div></div></div>"
      ],
      "text/plain": [
       "VotingClassifier(estimators=[('xgb',\n",
       "                              XGBClassifier(alpha=4.10797226500692e-08,\n",
       "                                            base_score=None, booster=None,\n",
       "                                            callbacks=None,\n",
       "                                            colsample_bylevel=None,\n",
       "                                            colsample_bynode=None,\n",
       "                                            colsample_bytree=0.5177980824894136,\n",
       "                                            device=None,\n",
       "                                            early_stopping_rounds=None,\n",
       "                                            enable_categorical=False,\n",
       "                                            eval_metric=None,\n",
       "                                            feature_types=None,\n",
       "                                            gamma=0.0004342336537981622,\n",
       "                                            grow_policy=None,\n",
       "                                            imp...\n",
       "                                            n_estimators=432, n_jobs=None, ...)),\n",
       "                             ('lgb',\n",
       "                              LGBMClassifier(bagging_fraction=0.830726975975083,\n",
       "                                             bagging_freq=7,\n",
       "                                             feature_fraction=0.6153388926958593,\n",
       "                                             lambda_l1=9.285703159386265e-05,\n",
       "                                             lambda_l2=3.5283439660576336e-08,\n",
       "                                             learning_rate=0.01150197154409214,\n",
       "                                             max_bin=60481, max_depth=19,\n",
       "                                             metric='auc', n_estimators=2026,\n",
       "                                             num_leaves=989,\n",
       "                                             scale_pos_weight=0.8275789282353321,\n",
       "                                             verbose=-1))],\n",
       "                 voting='soft')"
      ]
     },
     "execution_count": 38,
     "metadata": {},
     "output_type": "execute_result"
    }
   ],
   "source": [
    "from sklearn.ensemble import VotingClassifier\n",
    "\n",
    "voting_model2 = VotingClassifier(estimators=[\n",
    "    ('xgb', model_xgb),\n",
    "    ('lgb', model_lgbm),\n",
    "], voting='soft')\n",
    "\n",
    "voting_model2.fit(X_train, y_train)"
   ]
  },
  {
   "cell_type": "markdown",
   "id": "26341637",
   "metadata": {
    "papermill": {
     "duration": 0.021736,
     "end_time": "2024-08-27T18:05:57.735409",
     "exception": false,
     "start_time": "2024-08-27T18:05:57.713673",
     "status": "completed"
    },
    "tags": []
   },
   "source": [
    "# Stacking Classifier"
   ]
  },
  {
   "cell_type": "code",
   "execution_count": 39,
   "id": "1abca178",
   "metadata": {
    "execution": {
     "iopub.execute_input": "2024-08-27T18:05:57.782508Z",
     "iopub.status.busy": "2024-08-27T18:05:57.782137Z",
     "iopub.status.idle": "2024-08-27T18:05:57.787070Z",
     "shell.execute_reply": "2024-08-27T18:05:57.786056Z"
    },
    "papermill": {
     "duration": 0.031414,
     "end_time": "2024-08-27T18:05:57.789290",
     "exception": false,
     "start_time": "2024-08-27T18:05:57.757876",
     "status": "completed"
    },
    "tags": []
   },
   "outputs": [],
   "source": [
    "# from sklearn.ensemble import StackingClassifier\n",
    "\n",
    "# meta_model = XGBClassifier(n_estimators=100, learning_rate=0.05, max_depth=3, n_jobs=-1)\n",
    "\n",
    "# stacking_model = StackingClassifier(\n",
    "#     estimators=[\n",
    "#         ('xgb', model_xgb),\n",
    "#         ('lgb', model_lgbm),\n",
    "#         ('cat', model_cat)\n",
    "#     ],\n",
    "#     final_estimator=meta_model,\n",
    "#     cv=5,\n",
    "#     n_jobs=-1\n",
    "# )\n",
    "\n",
    "# stacking_model.fit(X_train, y_train)\n"
   ]
  },
  {
   "cell_type": "markdown",
   "id": "af17075e",
   "metadata": {
    "papermill": {
     "duration": 0.021912,
     "end_time": "2024-08-27T18:05:57.833477",
     "exception": false,
     "start_time": "2024-08-27T18:05:57.811565",
     "status": "completed"
    },
    "tags": []
   },
   "source": [
    "# Evaluation on test set and saving submission file"
   ]
  },
  {
   "cell_type": "code",
   "execution_count": 40,
   "id": "ca826c41",
   "metadata": {
    "execution": {
     "iopub.execute_input": "2024-08-27T18:05:57.879048Z",
     "iopub.status.busy": "2024-08-27T18:05:57.878669Z",
     "iopub.status.idle": "2024-08-27T18:05:57.988552Z",
     "shell.execute_reply": "2024-08-27T18:05:57.987433Z"
    },
    "papermill": {
     "duration": 0.135247,
     "end_time": "2024-08-27T18:05:57.990772",
     "exception": false,
     "start_time": "2024-08-27T18:05:57.855525",
     "status": "completed"
    },
    "tags": []
   },
   "outputs": [
    {
     "data": {
      "text/plain": [
       "(2077964, 19)"
      ]
     },
     "execution_count": 40,
     "metadata": {},
     "output_type": "execute_result"
    }
   ],
   "source": [
    "X_test=test.drop(columns=\"id\",axis=1)\n",
    "X_test.shape"
   ]
  },
  {
   "cell_type": "code",
   "execution_count": 41,
   "id": "238cf160",
   "metadata": {
    "execution": {
     "iopub.execute_input": "2024-08-27T18:05:58.043249Z",
     "iopub.status.busy": "2024-08-27T18:05:58.042740Z",
     "iopub.status.idle": "2024-08-27T18:05:58.050318Z",
     "shell.execute_reply": "2024-08-27T18:05:58.049170Z"
    },
    "papermill": {
     "duration": 0.038272,
     "end_time": "2024-08-27T18:05:58.052619",
     "exception": false,
     "start_time": "2024-08-27T18:05:58.014347",
     "status": "completed"
    },
    "tags": []
   },
   "outputs": [],
   "source": [
    "def predict(model,test_data):\n",
    "    predictions=model.predict_proba(test_data)\n",
    "    predicted_labels=np.where(predictions>.5,1,0)\n",
    "    predicted_labels=np.argmax(predicted_labels,axis=1)\n",
    "    class_mapping={0:'e',1:'p'}\n",
    "    predicted_class=[class_mapping[label] for label in predicted_labels]\n",
    "    return predicted_class\n",
    "    \n",
    "    "
   ]
  },
  {
   "cell_type": "code",
   "execution_count": 42,
   "id": "f78f98c3",
   "metadata": {
    "execution": {
     "iopub.execute_input": "2024-08-27T18:05:58.102054Z",
     "iopub.status.busy": "2024-08-27T18:05:58.101472Z",
     "iopub.status.idle": "2024-08-27T18:23:12.531972Z",
     "shell.execute_reply": "2024-08-27T18:23:12.530836Z"
    },
    "papermill": {
     "duration": 1034.459138,
     "end_time": "2024-08-27T18:23:12.534728",
     "exception": false,
     "start_time": "2024-08-27T18:05:58.075590",
     "status": "completed"
    },
    "tags": []
   },
   "outputs": [],
   "source": [
    "# with xgb and lgb\n",
    "voting_pred2=predict(voting_model2,X_test)\n",
    "submission_voting2=pd.DataFrame({\"id\":test[\"id\"].values,\"class\":voting_pred2})\n",
    "submission_voting2.to_csv(\"submission.csv\",index=False)"
   ]
  },
  {
   "cell_type": "code",
   "execution_count": 43,
   "id": "65ce7bdb",
   "metadata": {
    "execution": {
     "iopub.execute_input": "2024-08-27T18:23:12.580191Z",
     "iopub.status.busy": "2024-08-27T18:23:12.579833Z",
     "iopub.status.idle": "2024-08-27T18:23:12.583880Z",
     "shell.execute_reply": "2024-08-27T18:23:12.582970Z"
    },
    "papermill": {
     "duration": 0.028729,
     "end_time": "2024-08-27T18:23:12.585727",
     "exception": false,
     "start_time": "2024-08-27T18:23:12.556998",
     "status": "completed"
    },
    "tags": []
   },
   "outputs": [],
   "source": [
    "# voting_pred=predict(voting_model,X_test)\n",
    "# submission_voting=pd.DataFrame({\"id\":test[\"id\"].values,\"class\":voting_pred})\n",
    "# submission_voting.to_csv(\"submission.csv\",index=False)\n"
   ]
  },
  {
   "cell_type": "code",
   "execution_count": 44,
   "id": "a2d3afdb",
   "metadata": {
    "execution": {
     "iopub.execute_input": "2024-08-27T18:23:12.629253Z",
     "iopub.status.busy": "2024-08-27T18:23:12.628886Z",
     "iopub.status.idle": "2024-08-27T18:23:12.632787Z",
     "shell.execute_reply": "2024-08-27T18:23:12.631919Z"
    },
    "papermill": {
     "duration": 0.028152,
     "end_time": "2024-08-27T18:23:12.634793",
     "exception": false,
     "start_time": "2024-08-27T18:23:12.606641",
     "status": "completed"
    },
    "tags": []
   },
   "outputs": [],
   "source": [
    "# stack_pred=predict(stacking_model,X_test)\n",
    "# submission_stack=pd.DataFrame({\"id\":test[\"id\"].values,\"class\":stack_pred})\n",
    "# submission_stack.to_csv(\"submission_stack.csv\",index=False)"
   ]
  },
  {
   "cell_type": "code",
   "execution_count": 45,
   "id": "81a9f43d",
   "metadata": {
    "execution": {
     "iopub.execute_input": "2024-08-27T18:23:12.679461Z",
     "iopub.status.busy": "2024-08-27T18:23:12.679127Z",
     "iopub.status.idle": "2024-08-27T18:23:12.684270Z",
     "shell.execute_reply": "2024-08-27T18:23:12.683208Z"
    },
    "papermill": {
     "duration": 0.030592,
     "end_time": "2024-08-27T18:23:12.686282",
     "exception": false,
     "start_time": "2024-08-27T18:23:12.655690",
     "status": "completed"
    },
    "tags": []
   },
   "outputs": [
    {
     "name": "stdout",
     "output_type": "stream",
     "text": [
      "Notebook completed\n"
     ]
    }
   ],
   "source": [
    "print(\"Notebook completed\")"
   ]
  }
 ],
 "metadata": {
  "kaggle": {
   "accelerator": "gpu",
   "dataSources": [
    {
     "databundleVersionId": 9045607,
     "sourceId": 76727,
     "sourceType": "competition"
    }
   ],
   "isGpuEnabled": true,
   "isInternetEnabled": true,
   "language": "python",
   "sourceType": "notebook"
  },
  "kernelspec": {
   "display_name": "Python 3",
   "language": "python",
   "name": "python3"
  },
  "language_info": {
   "codemirror_mode": {
    "name": "ipython",
    "version": 3
   },
   "file_extension": ".py",
   "mimetype": "text/x-python",
   "name": "python",
   "nbconvert_exporter": "python",
   "pygments_lexer": "ipython3",
   "version": "3.10.14"
  },
  "papermill": {
   "default_parameters": {},
   "duration": 6845.872571,
   "end_time": "2024-08-27T18:23:15.226083",
   "environment_variables": {},
   "exception": null,
   "input_path": "__notebook__.ipynb",
   "output_path": "__notebook__.ipynb",
   "parameters": {},
   "start_time": "2024-08-27T16:29:09.353512",
   "version": "2.6.0"
  }
 },
 "nbformat": 4,
 "nbformat_minor": 5
}
